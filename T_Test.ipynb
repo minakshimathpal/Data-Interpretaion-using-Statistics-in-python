{
  "nbformat": 4,
  "nbformat_minor": 0,
  "metadata": {
    "colab": {
      "name": "T-Test.ipynb",
      "provenance": []
    },
    "kernelspec": {
      "name": "python3",
      "display_name": "Python 3"
    },
    "language_info": {
      "name": "python"
    }
  },
  "cells": [
    {
      "cell_type": "code",
      "metadata": {
        "id": "xOEnZdAPtBva"
      },
      "source": [
        "import statsmodels.api as sm\n",
        "import matplotlib.pyplot as plt\n",
        "import seaborn as sns\n",
        "import pandas as pd\n",
        "import numpy as np\n",
        "from sklearn.preprocessing import scale\n",
        "%matplotlib inline"
      ],
      "execution_count": null,
      "outputs": []
    },
    {
      "cell_type": "code",
      "metadata": {
        "colab": {
          "base_uri": "https://localhost:8080/"
        },
        "id": "RiA8pvrnuuoj",
        "outputId": "39e91839-f421-4456-f0d9-e48991234e9f"
      },
      "source": [
        "pip install researchpy"
      ],
      "execution_count": null,
      "outputs": [
        {
          "output_type": "stream",
          "name": "stdout",
          "text": [
            "Requirement already satisfied: researchpy in /usr/local/lib/python3.7/dist-packages (0.3.2)\n",
            "Requirement already satisfied: pandas in /usr/local/lib/python3.7/dist-packages (from researchpy) (1.1.5)\n",
            "Requirement already satisfied: statsmodels in /usr/local/lib/python3.7/dist-packages (from researchpy) (0.10.2)\n",
            "Requirement already satisfied: numpy in /usr/local/lib/python3.7/dist-packages (from researchpy) (1.19.5)\n",
            "Requirement already satisfied: scipy in /usr/local/lib/python3.7/dist-packages (from researchpy) (1.4.1)\n",
            "Requirement already satisfied: patsy in /usr/local/lib/python3.7/dist-packages (from researchpy) (0.5.1)\n",
            "Requirement already satisfied: pytz>=2017.2 in /usr/local/lib/python3.7/dist-packages (from pandas->researchpy) (2018.9)\n",
            "Requirement already satisfied: python-dateutil>=2.7.3 in /usr/local/lib/python3.7/dist-packages (from pandas->researchpy) (2.8.2)\n",
            "Requirement already satisfied: six>=1.5 in /usr/local/lib/python3.7/dist-packages (from python-dateutil>=2.7.3->pandas->researchpy) (1.15.0)\n"
          ]
        }
      ]
    },
    {
      "cell_type": "code",
      "metadata": {
        "id": "fO8GEXxgu8zJ"
      },
      "source": [
        "import researchpy as researchpy\n",
        "from scipy import stats"
      ],
      "execution_count": null,
      "outputs": []
    },
    {
      "cell_type": "code",
      "metadata": {
        "colab": {
          "base_uri": "https://localhost:8080/"
        },
        "id": "cvmxh-o8vBbQ",
        "outputId": "1b523ff1-c0b0-4ae2-b108-0d2097457d93"
      },
      "source": [
        "data=pd.read_csv(\"/content/day.csv\")\n",
        "data.shape"
      ],
      "execution_count": null,
      "outputs": [
        {
          "output_type": "execute_result",
          "data": {
            "text/plain": [
              "(731, 16)"
            ]
          },
          "metadata": {},
          "execution_count": 126
        }
      ]
    },
    {
      "cell_type": "code",
      "metadata": {
        "colab": {
          "base_uri": "https://localhost:8080/",
          "height": 226
        },
        "id": "L106eZ-ewG6T",
        "outputId": "703af4c4-c0c7-44ef-8876-a915de5e20bf"
      },
      "source": [
        "data.head()"
      ],
      "execution_count": null,
      "outputs": [
        {
          "output_type": "execute_result",
          "data": {
            "text/html": [
              "<div>\n",
              "<style scoped>\n",
              "    .dataframe tbody tr th:only-of-type {\n",
              "        vertical-align: middle;\n",
              "    }\n",
              "\n",
              "    .dataframe tbody tr th {\n",
              "        vertical-align: top;\n",
              "    }\n",
              "\n",
              "    .dataframe thead th {\n",
              "        text-align: right;\n",
              "    }\n",
              "</style>\n",
              "<table border=\"1\" class=\"dataframe\">\n",
              "  <thead>\n",
              "    <tr style=\"text-align: right;\">\n",
              "      <th></th>\n",
              "      <th>instant</th>\n",
              "      <th>dteday</th>\n",
              "      <th>season</th>\n",
              "      <th>yr</th>\n",
              "      <th>mnth</th>\n",
              "      <th>holiday</th>\n",
              "      <th>weekday</th>\n",
              "      <th>workingday</th>\n",
              "      <th>weathersit</th>\n",
              "      <th>temp</th>\n",
              "      <th>atemp</th>\n",
              "      <th>hum</th>\n",
              "      <th>windspeed</th>\n",
              "      <th>casual</th>\n",
              "      <th>registered</th>\n",
              "      <th>cnt</th>\n",
              "    </tr>\n",
              "  </thead>\n",
              "  <tbody>\n",
              "    <tr>\n",
              "      <th>0</th>\n",
              "      <td>1</td>\n",
              "      <td>2011-01-01</td>\n",
              "      <td>1</td>\n",
              "      <td>0</td>\n",
              "      <td>1</td>\n",
              "      <td>0</td>\n",
              "      <td>6</td>\n",
              "      <td>0</td>\n",
              "      <td>2</td>\n",
              "      <td>0.344167</td>\n",
              "      <td>0.363625</td>\n",
              "      <td>0.805833</td>\n",
              "      <td>0.160446</td>\n",
              "      <td>331</td>\n",
              "      <td>654</td>\n",
              "      <td>985</td>\n",
              "    </tr>\n",
              "    <tr>\n",
              "      <th>1</th>\n",
              "      <td>2</td>\n",
              "      <td>2011-01-02</td>\n",
              "      <td>1</td>\n",
              "      <td>0</td>\n",
              "      <td>1</td>\n",
              "      <td>0</td>\n",
              "      <td>0</td>\n",
              "      <td>0</td>\n",
              "      <td>2</td>\n",
              "      <td>0.363478</td>\n",
              "      <td>0.353739</td>\n",
              "      <td>0.696087</td>\n",
              "      <td>0.248539</td>\n",
              "      <td>131</td>\n",
              "      <td>670</td>\n",
              "      <td>801</td>\n",
              "    </tr>\n",
              "    <tr>\n",
              "      <th>2</th>\n",
              "      <td>3</td>\n",
              "      <td>2011-01-03</td>\n",
              "      <td>1</td>\n",
              "      <td>0</td>\n",
              "      <td>1</td>\n",
              "      <td>0</td>\n",
              "      <td>1</td>\n",
              "      <td>1</td>\n",
              "      <td>1</td>\n",
              "      <td>0.196364</td>\n",
              "      <td>0.189405</td>\n",
              "      <td>0.437273</td>\n",
              "      <td>0.248309</td>\n",
              "      <td>120</td>\n",
              "      <td>1229</td>\n",
              "      <td>1349</td>\n",
              "    </tr>\n",
              "    <tr>\n",
              "      <th>3</th>\n",
              "      <td>4</td>\n",
              "      <td>2011-01-04</td>\n",
              "      <td>1</td>\n",
              "      <td>0</td>\n",
              "      <td>1</td>\n",
              "      <td>0</td>\n",
              "      <td>2</td>\n",
              "      <td>1</td>\n",
              "      <td>1</td>\n",
              "      <td>0.200000</td>\n",
              "      <td>0.212122</td>\n",
              "      <td>0.590435</td>\n",
              "      <td>0.160296</td>\n",
              "      <td>108</td>\n",
              "      <td>1454</td>\n",
              "      <td>1562</td>\n",
              "    </tr>\n",
              "    <tr>\n",
              "      <th>4</th>\n",
              "      <td>5</td>\n",
              "      <td>2011-01-05</td>\n",
              "      <td>1</td>\n",
              "      <td>0</td>\n",
              "      <td>1</td>\n",
              "      <td>0</td>\n",
              "      <td>3</td>\n",
              "      <td>1</td>\n",
              "      <td>1</td>\n",
              "      <td>0.226957</td>\n",
              "      <td>0.229270</td>\n",
              "      <td>0.436957</td>\n",
              "      <td>0.186900</td>\n",
              "      <td>82</td>\n",
              "      <td>1518</td>\n",
              "      <td>1600</td>\n",
              "    </tr>\n",
              "  </tbody>\n",
              "</table>\n",
              "</div>"
            ],
            "text/plain": [
              "   instant      dteday  season  yr  ...  windspeed  casual  registered   cnt\n",
              "0        1  2011-01-01       1   0  ...   0.160446     331         654   985\n",
              "1        2  2011-01-02       1   0  ...   0.248539     131         670   801\n",
              "2        3  2011-01-03       1   0  ...   0.248309     120        1229  1349\n",
              "3        4  2011-01-04       1   0  ...   0.160296     108        1454  1562\n",
              "4        5  2011-01-05       1   0  ...   0.186900      82        1518  1600\n",
              "\n",
              "[5 rows x 16 columns]"
            ]
          },
          "metadata": {},
          "execution_count": 127
        }
      ]
    },
    {
      "cell_type": "code",
      "metadata": {
        "id": "ni2fhH9sykAD"
      },
      "source": [
        "# subsetting the data\n",
        "bike_sharing_data=data[[\"season\",\"mnth\",\"holiday\",\"workingday\",\"weathersit\",\"temp\",\"cnt\"]]"
      ],
      "execution_count": null,
      "outputs": []
    },
    {
      "cell_type": "code",
      "metadata": {
        "id": "rOVQD2rd0PXX"
      },
      "source": [
        "bike_sharing_data.to_csv(\"bike_sharing_data_processed.csv\",index=False)"
      ],
      "execution_count": null,
      "outputs": []
    },
    {
      "cell_type": "code",
      "metadata": {
        "colab": {
          "base_uri": "https://localhost:8080/",
          "height": 206
        },
        "id": "8vOxU7dp0fUz",
        "outputId": "16206803-0f48-4bf8-9d36-ad5ee586ae33"
      },
      "source": [
        "bike_sharing_data.head()"
      ],
      "execution_count": null,
      "outputs": [
        {
          "output_type": "execute_result",
          "data": {
            "text/html": [
              "<div>\n",
              "<style scoped>\n",
              "    .dataframe tbody tr th:only-of-type {\n",
              "        vertical-align: middle;\n",
              "    }\n",
              "\n",
              "    .dataframe tbody tr th {\n",
              "        vertical-align: top;\n",
              "    }\n",
              "\n",
              "    .dataframe thead th {\n",
              "        text-align: right;\n",
              "    }\n",
              "</style>\n",
              "<table border=\"1\" class=\"dataframe\">\n",
              "  <thead>\n",
              "    <tr style=\"text-align: right;\">\n",
              "      <th></th>\n",
              "      <th>season</th>\n",
              "      <th>mnth</th>\n",
              "      <th>holiday</th>\n",
              "      <th>workingday</th>\n",
              "      <th>weathersit</th>\n",
              "      <th>temp</th>\n",
              "      <th>cnt</th>\n",
              "    </tr>\n",
              "  </thead>\n",
              "  <tbody>\n",
              "    <tr>\n",
              "      <th>0</th>\n",
              "      <td>1</td>\n",
              "      <td>1</td>\n",
              "      <td>0</td>\n",
              "      <td>0</td>\n",
              "      <td>2</td>\n",
              "      <td>0.344167</td>\n",
              "      <td>985</td>\n",
              "    </tr>\n",
              "    <tr>\n",
              "      <th>1</th>\n",
              "      <td>1</td>\n",
              "      <td>1</td>\n",
              "      <td>0</td>\n",
              "      <td>0</td>\n",
              "      <td>2</td>\n",
              "      <td>0.363478</td>\n",
              "      <td>801</td>\n",
              "    </tr>\n",
              "    <tr>\n",
              "      <th>2</th>\n",
              "      <td>1</td>\n",
              "      <td>1</td>\n",
              "      <td>0</td>\n",
              "      <td>1</td>\n",
              "      <td>1</td>\n",
              "      <td>0.196364</td>\n",
              "      <td>1349</td>\n",
              "    </tr>\n",
              "    <tr>\n",
              "      <th>3</th>\n",
              "      <td>1</td>\n",
              "      <td>1</td>\n",
              "      <td>0</td>\n",
              "      <td>1</td>\n",
              "      <td>1</td>\n",
              "      <td>0.200000</td>\n",
              "      <td>1562</td>\n",
              "    </tr>\n",
              "    <tr>\n",
              "      <th>4</th>\n",
              "      <td>1</td>\n",
              "      <td>1</td>\n",
              "      <td>0</td>\n",
              "      <td>1</td>\n",
              "      <td>1</td>\n",
              "      <td>0.226957</td>\n",
              "      <td>1600</td>\n",
              "    </tr>\n",
              "  </tbody>\n",
              "</table>\n",
              "</div>"
            ],
            "text/plain": [
              "   season  mnth  holiday  workingday  weathersit      temp   cnt\n",
              "0       1     1        0           0           2  0.344167   985\n",
              "1       1     1        0           0           2  0.363478   801\n",
              "2       1     1        0           1           1  0.196364  1349\n",
              "3       1     1        0           1           1  0.200000  1562\n",
              "4       1     1        0           1           1  0.226957  1600"
            ]
          },
          "metadata": {},
          "execution_count": 130
        }
      ]
    },
    {
      "cell_type": "code",
      "metadata": {
        "colab": {
          "base_uri": "https://localhost:8080/"
        },
        "id": "osKbmPiu1Lws",
        "outputId": "a0381c78-f86b-432c-ac15-0ad2afc8f3f6"
      },
      "source": [
        "bike_sharing_data.info()"
      ],
      "execution_count": null,
      "outputs": [
        {
          "output_type": "stream",
          "name": "stdout",
          "text": [
            "<class 'pandas.core.frame.DataFrame'>\n",
            "RangeIndex: 731 entries, 0 to 730\n",
            "Data columns (total 7 columns):\n",
            " #   Column      Non-Null Count  Dtype  \n",
            "---  ------      --------------  -----  \n",
            " 0   season      731 non-null    int64  \n",
            " 1   mnth        731 non-null    int64  \n",
            " 2   holiday     731 non-null    int64  \n",
            " 3   workingday  731 non-null    int64  \n",
            " 4   weathersit  731 non-null    int64  \n",
            " 5   temp        731 non-null    float64\n",
            " 6   cnt         731 non-null    int64  \n",
            "dtypes: float64(1), int64(6)\n",
            "memory usage: 40.1 KB\n"
          ]
        }
      ]
    },
    {
      "cell_type": "code",
      "metadata": {
        "colab": {
          "base_uri": "https://localhost:8080/"
        },
        "id": "bGnYjbd70jJ4",
        "outputId": "dd1ea767-edb4-4feb-cd2a-f2068188ce47"
      },
      "source": [
        "bike_sharing_data[\"season\"].unique()"
      ],
      "execution_count": null,
      "outputs": [
        {
          "output_type": "execute_result",
          "data": {
            "text/plain": [
              "array([1, 2, 3, 4])"
            ]
          },
          "metadata": {},
          "execution_count": 132
        }
      ]
    },
    {
      "cell_type": "code",
      "metadata": {
        "colab": {
          "base_uri": "https://localhost:8080/"
        },
        "id": "2DWXNXQw0sIX",
        "outputId": "0b3e5506-353b-4212-e7cc-bb95ee31b328"
      },
      "source": [
        "bike_sharing_data[\"workingday\"].unique()"
      ],
      "execution_count": null,
      "outputs": [
        {
          "output_type": "execute_result",
          "data": {
            "text/plain": [
              "array([0, 1])"
            ]
          },
          "metadata": {},
          "execution_count": 133
        }
      ]
    },
    {
      "cell_type": "code",
      "metadata": {
        "colab": {
          "base_uri": "https://localhost:8080/"
        },
        "id": "9nengJcF0zFi",
        "outputId": "86d95a64-ae7f-4177-cdc9-a3d5d24cda6d"
      },
      "source": [
        "bike_sharing_data[\"holiday\"].unique()"
      ],
      "execution_count": null,
      "outputs": [
        {
          "output_type": "execute_result",
          "data": {
            "text/plain": [
              "array([0, 1])"
            ]
          },
          "metadata": {},
          "execution_count": 134
        }
      ]
    },
    {
      "cell_type": "code",
      "metadata": {
        "colab": {
          "base_uri": "https://localhost:8080/"
        },
        "id": "nQgN4VzW07Bd",
        "outputId": "99d0e572-9177-43cd-ebc2-ce227e321fde"
      },
      "source": [
        "bike_sharing_data[\"weathersit\"].unique()"
      ],
      "execution_count": null,
      "outputs": [
        {
          "output_type": "execute_result",
          "data": {
            "text/plain": [
              "array([2, 1, 3])"
            ]
          },
          "metadata": {},
          "execution_count": 135
        }
      ]
    },
    {
      "cell_type": "code",
      "metadata": {
        "colab": {
          "base_uri": "https://localhost:8080/"
        },
        "id": "QsKBz52s1EgL",
        "outputId": "b9afa5aa-86e8-4083-b2c6-8aef78cc218c"
      },
      "source": [
        "bike_sharing_data[\"temp\"].describe()"
      ],
      "execution_count": null,
      "outputs": [
        {
          "output_type": "execute_result",
          "data": {
            "text/plain": [
              "count    731.000000\n",
              "mean       0.495385\n",
              "std        0.183051\n",
              "min        0.059130\n",
              "25%        0.337083\n",
              "50%        0.498333\n",
              "75%        0.655417\n",
              "max        0.861667\n",
              "Name: temp, dtype: float64"
            ]
          },
          "metadata": {},
          "execution_count": 136
        }
      ]
    },
    {
      "cell_type": "code",
      "metadata": {
        "colab": {
          "base_uri": "https://localhost:8080/",
          "height": 283
        },
        "id": "Djj0x5wp1TR-",
        "outputId": "81428b45-fdbc-4089-aeb9-2da236438e0f"
      },
      "source": [
        "bike_sharing_data[\"temp\"].plot(kind=\"kde\")"
      ],
      "execution_count": null,
      "outputs": [
        {
          "output_type": "execute_result",
          "data": {
            "text/plain": [
              "<matplotlib.axes._subplots.AxesSubplot at 0x7feb963ee090>"
            ]
          },
          "metadata": {},
          "execution_count": 137
        },
        {
          "output_type": "display_data",
          "data": {
            "image/png": "[encoded data removed]",
            "text/plain": [
              "<Figure size 432x288 with 1 Axes>"
            ]
          },
          "metadata": {
            "needs_background": "light"
          }
        }
      ]
    },
    {
      "cell_type": "markdown",
      "metadata": {
        "id": "eIur9r5K31Ux"
      },
      "source": [
        "We use t-test to compare differences in means between two samples of population and see whether the difference is significant or not.\n",
        "* we will use t-test to see whether the average number of bikes rented on a working day versus a non-working day is different, and whether this difference is significant. \n"
      ]
    },
    {
      "cell_type": "code",
      "metadata": {
        "colab": {
          "base_uri": "https://localhost:8080/",
          "height": 143
        },
        "id": "6dnnBeLc1ZWu",
        "outputId": "1b877de6-668c-42d0-9670-2c4d0df2dc08"
      },
      "source": [
        "# lets first use groupby to see if averages are different or not\n",
        "bike_sharing_data.groupby(\"workingday\")[\"cnt\"].describe()"
      ],
      "execution_count": null,
      "outputs": [
        {
          "output_type": "execute_result",
          "data": {
            "text/html": [
              "<div>\n",
              "<style scoped>\n",
              "    .dataframe tbody tr th:only-of-type {\n",
              "        vertical-align: middle;\n",
              "    }\n",
              "\n",
              "    .dataframe tbody tr th {\n",
              "        vertical-align: top;\n",
              "    }\n",
              "\n",
              "    .dataframe thead th {\n",
              "        text-align: right;\n",
              "    }\n",
              "</style>\n",
              "<table border=\"1\" class=\"dataframe\">\n",
              "  <thead>\n",
              "    <tr style=\"text-align: right;\">\n",
              "      <th></th>\n",
              "      <th>count</th>\n",
              "      <th>mean</th>\n",
              "      <th>std</th>\n",
              "      <th>min</th>\n",
              "      <th>25%</th>\n",
              "      <th>50%</th>\n",
              "      <th>75%</th>\n",
              "      <th>max</th>\n",
              "    </tr>\n",
              "    <tr>\n",
              "      <th>workingday</th>\n",
              "      <th></th>\n",
              "      <th></th>\n",
              "      <th></th>\n",
              "      <th></th>\n",
              "      <th></th>\n",
              "      <th></th>\n",
              "      <th></th>\n",
              "      <th></th>\n",
              "    </tr>\n",
              "  </thead>\n",
              "  <tbody>\n",
              "    <tr>\n",
              "      <th>0</th>\n",
              "      <td>231.0</td>\n",
              "      <td>4330.168831</td>\n",
              "      <td>2052.141245</td>\n",
              "      <td>605.0</td>\n",
              "      <td>2710.50</td>\n",
              "      <td>4459.0</td>\n",
              "      <td>5907.5</td>\n",
              "      <td>8714.0</td>\n",
              "    </tr>\n",
              "    <tr>\n",
              "      <th>1</th>\n",
              "      <td>500.0</td>\n",
              "      <td>4584.820000</td>\n",
              "      <td>1878.415583</td>\n",
              "      <td>22.0</td>\n",
              "      <td>3344.25</td>\n",
              "      <td>4582.0</td>\n",
              "      <td>5987.5</td>\n",
              "      <td>8362.0</td>\n",
              "    </tr>\n",
              "  </tbody>\n",
              "</table>\n",
              "</div>"
            ],
            "text/plain": [
              "            count         mean          std  ...     50%     75%     max\n",
              "workingday                                   ...                        \n",
              "0           231.0  4330.168831  2052.141245  ...  4459.0  5907.5  8714.0\n",
              "1           500.0  4584.820000  1878.415583  ...  4582.0  5987.5  8362.0\n",
              "\n",
              "[2 rows x 8 columns]"
            ]
          },
          "metadata": {},
          "execution_count": 138
        }
      ]
    },
    {
      "cell_type": "markdown",
      "metadata": {
        "id": "VHuB9_Sp5UST"
      },
      "source": [
        "* we can see the number of records for working day and non working day are different.And at the same time means are also different\n",
        "* but we want to see if this difference in the mean is significant"
      ]
    },
    {
      "cell_type": "code",
      "metadata": {
        "colab": {
          "base_uri": "https://localhost:8080/",
          "height": 354
        },
        "id": "4SlY2cfm2SpR",
        "outputId": "20f31b3f-181a-417e-a62b-7056aa94a8d8"
      },
      "source": [
        "# lets visualize it using a boxplot\n",
        "sns.boxplot(bike_sharing_data[\"workingday\"],bike_sharing_data[\"cnt\"])"
      ],
      "execution_count": null,
      "outputs": [
        {
          "output_type": "stream",
          "name": "stderr",
          "text": [
            "/usr/local/lib/python3.7/dist-packages/seaborn/_decorators.py:43: FutureWarning: Pass the following variables as keyword args: x, y. From version 0.12, the only valid positional argument will be `data`, and passing other arguments without an explicit keyword will result in an error or misinterpretation.\n",
            "  FutureWarning\n"
          ]
        },
        {
          "output_type": "execute_result",
          "data": {
            "text/plain": [
              "<matplotlib.axes._subplots.AxesSubplot at 0x7feb8d918590>"
            ]
          },
          "metadata": {},
          "execution_count": 139
        },
        {
          "output_type": "display_data",
          "data": {
            "image/png": "[encoded data removed]",
            "text/plain": [
              "<Figure size 432x288 with 1 Axes>"
            ]
          },
          "metadata": {
            "needs_background": "light"
          }
        }
      ]
    },
    {
      "cell_type": "markdown",
      "metadata": {
        "id": "imhI4oEA6TDl"
      },
      "source": [
        "Independent t-test"
      ]
    },
    {
      "cell_type": "code",
      "metadata": {
        "id": "qLHj4mK26bYV"
      },
      "source": [
        "sample_01=bike_sharing_data[bike_sharing_data[\"workingday\"]==0]\n",
        "sample_02=bike_sharing_data[bike_sharing_data[\"workingday\"]==1]"
      ],
      "execution_count": null,
      "outputs": []
    },
    {
      "cell_type": "code",
      "metadata": {
        "colab": {
          "base_uri": "https://localhost:8080/"
        },
        "id": "4gYcLyAD-GF_",
        "outputId": "373da642-df05-4b37-8c65-926a02b2691d"
      },
      "source": [
        "sample_01.shape,sample_02.shape"
      ],
      "execution_count": null,
      "outputs": [
        {
          "output_type": "execute_result",
          "data": {
            "text/plain": [
              "((231, 7), (500, 7))"
            ]
          },
          "metadata": {},
          "execution_count": 141
        }
      ]
    },
    {
      "cell_type": "code",
      "metadata": {
        "id": "rf3mct1o-QYu"
      },
      "source": [
        "# for independent t-test the number of sample should be same so to fix this lets sample 231 randomly from sample_01\n",
        "import random\n",
        "sample_02=sample_02.sample(n=231,random_state=42)"
      ],
      "execution_count": null,
      "outputs": []
    },
    {
      "cell_type": "code",
      "metadata": {
        "colab": {
          "base_uri": "https://localhost:8080/"
        },
        "id": "mWde7dIX-0su",
        "outputId": "01a5d03d-16c7-4edd-f5a3-dc04925eb9b4"
      },
      "source": [
        "sample_01.shape,sample_02.shape"
      ],
      "execution_count": null,
      "outputs": [
        {
          "output_type": "execute_result",
          "data": {
            "text/plain": [
              "((231, 7), (231, 7))"
            ]
          },
          "metadata": {},
          "execution_count": 143
        }
      ]
    },
    {
      "cell_type": "markdown",
      "metadata": {
        "id": "Jg7J8_Wz_acs"
      },
      "source": [
        "* check whether the assumption made for the t-test are satified\n",
        "* first check equal variance of two groups  using levene test\n",
        "* levene test is similar to t-test but it test for equal variance rather than equal means"
      ]
    },
    {
      "cell_type": "code",
      "metadata": {
        "colab": {
          "base_uri": "https://localhost:8080/"
        },
        "id": "VDi-0nUFATod",
        "outputId": "7ed958e3-53fa-41a4-ee91-d752a220f0f5"
      },
      "source": [
        "from scipy.stats import levene\n",
        "levene(sample_02[\"cnt\"],sample_01[\"cnt\"])"
      ],
      "execution_count": null,
      "outputs": [
        {
          "output_type": "execute_result",
          "data": {
            "text/plain": [
              "LeveneResult(statistic=3.979889033842622, pvalue=0.04663610361247089)"
            ]
          },
          "metadata": {},
          "execution_count": 144
        }
      ]
    },
    {
      "cell_type": "markdown",
      "metadata": {
        "id": "GpvmHggTAdxU"
      },
      "source": [
        " so our p-value is just exactly equal to 0.05 significance level...to proceed with t-test lets assume significance level of 0.01 and fail to reject the null hypothesis.Thus we have equal variance\n",
        "\n",
        " * second assumption is the distribution of the residuals between the two groups should follow the normal distribution"
      ]
    },
    {
      "cell_type": "code",
      "metadata": {
        "colab": {
          "base_uri": "https://localhost:8080/",
          "height": 387
        },
        "id": "LleTzwkfAkH0",
        "outputId": "4a87b3ce-70ea-4359-97bd-020bf5e8457e"
      },
      "source": [
        "# lets calculate the residulas and standardise them to make them easy to work with\n",
        "\n",
        "diff=scale(np.array(sample_01[\"cnt\"])-np.array(sample_02[\"cnt\"]))\n",
        "#plot the residuals\n",
        "sns.displot(diff)"
      ],
      "execution_count": null,
      "outputs": [
        {
          "output_type": "execute_result",
          "data": {
            "text/plain": [
              "<seaborn.axisgrid.FacetGrid at 0x7feb8d890710>"
            ]
          },
          "metadata": {},
          "execution_count": 145
        },
        {
          "output_type": "display_data",
          "data": {
            "image/png": "[encoded data removed]",
            "text/plain": [
              "<Figure size 360x360 with 1 Axes>"
            ]
          },
          "metadata": {
            "needs_background": "light"
          }
        }
      ]
    },
    {
      "cell_type": "code",
      "metadata": {
        "colab": {
          "base_uri": "https://localhost:8080/",
          "height": 295
        },
        "id": "7Zl0ClBsF8zZ",
        "outputId": "51559da7-b784-492c-f9a9-3b15ce36eb1f"
      },
      "source": [
        "#this give sus a rough idea of the residuals distributions\n",
        "# lets do a probapility plot\n",
        "stats.probplot(diff,plot=plt,dist=\"norm\");"
      ],
      "execution_count": null,
      "outputs": [
        {
          "output_type": "display_data",
          "data": {
            "image/png": "[encoded data removed]",
            "text/plain": [
              "<Figure size 432x288 with 1 Axes>"
            ]
          },
          "metadata": {
            "needs_background": "light"
          }
        }
      ]
    },
    {
      "cell_type": "markdown",
      "metadata": {
        "id": "piOw2iy4GuQD"
      },
      "source": [
        "So residual data very closely follows the normal distribution.At greater than 2 standard deviation on either side the data does not track the red line. The rest of the data very closely follows the normal distribution\n",
        "* another test is Shapiro-Wilk test for normality\n"
      ]
    },
    {
      "cell_type": "code",
      "metadata": {
        "colab": {
          "base_uri": "https://localhost:8080/"
        },
        "id": "54pfYiBiYD-F",
        "outputId": "123f20a5-be11-470c-c055-15c4ee9329db"
      },
      "source": [
        "# shapiro Wilk test\n",
        "stats.shapiro(diff)"
      ],
      "execution_count": null,
      "outputs": [
        {
          "output_type": "execute_result",
          "data": {
            "text/plain": [
              "(0.9917704463005066, 0.2214667797088623)"
            ]
          },
          "metadata": {},
          "execution_count": 147
        }
      ]
    },
    {
      "cell_type": "markdown",
      "metadata": {
        "id": "2S-6hfj9Y-T3"
      },
      "source": [
        "so above p-value is gretaer than 5% thus not significant so our data is normally distributed"
      ]
    },
    {
      "cell_type": "markdown",
      "metadata": {
        "id": "0eF49OtOZOaI"
      },
      "source": [
        "## independent t-test"
      ]
    },
    {
      "cell_type": "code",
      "metadata": {
        "colab": {
          "base_uri": "https://localhost:8080/"
        },
        "id": "lMfVpGDVZUOn",
        "outputId": "6ca21d2b-b2af-4c2b-99ba-c07fb7e6bc65"
      },
      "source": [
        "stats.ttest_ind(sample_01[\"cnt\"],sample_02[\"cnt\"])"
      ],
      "execution_count": null,
      "outputs": [
        {
          "output_type": "execute_result",
          "data": {
            "text/plain": [
              "Ttest_indResult(statistic=-0.7125247222345579, pvalue=0.476501159234212)"
            ]
          },
          "metadata": {},
          "execution_count": 148
        }
      ]
    },
    {
      "cell_type": "markdown",
      "metadata": {
        "id": "1qzMHgj9Zg-R"
      },
      "source": [
        "the p value from above test is almost 47% which means we can reject the alternate hypothesis and fail to reject the null hypothesis.\n",
        "Null hypothesis says the means of two groups is same \n",
        "which means be it working day or non working day there is no diffrence in bikes shared"
      ]
    },
    {
      "cell_type": "code",
      "metadata": {
        "id": "8glMSQpNaR80"
      },
      "source": [
        "import researchpy as rp"
      ],
      "execution_count": null,
      "outputs": []
    },
    {
      "cell_type": "code",
      "metadata": {
        "id": "JrFjqq-aamwZ"
      },
      "source": [
        "descriptive,results= rp.ttest(sample_01[\"cnt\"],sample_02[\"cnt\"])"
      ],
      "execution_count": null,
      "outputs": []
    },
    {
      "cell_type": "code",
      "metadata": {
        "colab": {
          "base_uri": "https://localhost:8080/"
        },
        "id": "Ekt7Xv38asLq",
        "outputId": "c9e6862c-eb99-4516-8534-874ba9134ba5"
      },
      "source": [
        "print(results)"
      ],
      "execution_count": null,
      "outputs": [
        {
          "output_type": "stream",
          "name": "stdout",
          "text": [
            "          Independent t-test   results\n",
            "0  Difference (cnt - cnt) =  -129.5801\n",
            "1      Degrees of freedom =   460.0000\n",
            "2                       t =    -0.7125\n",
            "3   Two side test p value =     0.4765\n",
            "4  Difference < 0 p value =     0.2383\n",
            "5  Difference > 0 p value =     0.7617\n",
            "6               Cohen's d =    -0.0663\n",
            "7               Hedge's g =    -0.0662\n",
            "8           Glass's delta =    -0.0631\n",
            "9             Pearson's r =     0.0332\n"
          ]
        }
      ]
    },
    {
      "cell_type": "markdown",
      "metadata": {
        "id": "rjpREKrOauML"
      },
      "source": [
        "## lets use temperature and cnt to do indepemdent test\n",
        "but for t test we need a categorical indepndent variable to create two groups\n",
        "lets create a categorical variable out of temperature variable.\n",
        "To understand how temperature values are distributed across our data lets look at the boxplot\n"
      ]
    },
    {
      "cell_type": "code",
      "metadata": {
        "colab": {
          "base_uri": "https://localhost:8080/",
          "height": 354
        },
        "id": "S7po6QM5bwK2",
        "outputId": "2dd7a5a2-ad78-416a-b1ef-cbd2c512e7a7"
      },
      "source": [
        "sns.boxplot(bike_sharing_data[\"temp\"])"
      ],
      "execution_count": null,
      "outputs": [
        {
          "output_type": "stream",
          "name": "stderr",
          "text": [
            "/usr/local/lib/python3.7/dist-packages/seaborn/_decorators.py:43: FutureWarning: Pass the following variable as a keyword arg: x. From version 0.12, the only valid positional argument will be `data`, and passing other arguments without an explicit keyword will result in an error or misinterpretation.\n",
            "  FutureWarning\n"
          ]
        },
        {
          "output_type": "execute_result",
          "data": {
            "text/plain": [
              "<matplotlib.axes._subplots.AxesSubplot at 0x7feb8d73a350>"
            ]
          },
          "metadata": {},
          "execution_count": 154
        },
        {
          "output_type": "display_data",
          "data": {
            "image/png": "[encoded data removed]",
            "text/plain": [
              "<Figure size 432x288 with 1 Axes>"
            ]
          },
          "metadata": {
            "needs_background": "light"
          }
        }
      ]
    },
    {
      "cell_type": "code",
      "metadata": {
        "colab": {
          "base_uri": "https://localhost:8080/"
        },
        "id": "J50sL4CMdOKo",
        "outputId": "be077d2b-f2eb-4bdc-d2b5-464c0cab31d3"
      },
      "source": [
        "# if temperature on a certain day is gereater than mean then True else false\n",
        "bike_sharing_data[\"temp_category\"]=[True  if val > bike_sharing_data[\"temp\"].mean() else False for val in bike_sharing_data[\"temp\"] ]"
      ],
      "execution_count": null,
      "outputs": [
        {
          "output_type": "stream",
          "name": "stderr",
          "text": [
            "/usr/local/lib/python3.7/dist-packages/ipykernel_launcher.py:2: SettingWithCopyWarning: \n",
            "A value is trying to be set on a copy of a slice from a DataFrame.\n",
            "Try using .loc[row_indexer,col_indexer] = value instead\n",
            "\n",
            "See the caveats in the documentation: https://pandas.pydata.org/pandas-docs/stable/user_guide/indexing.html#returning-a-view-versus-a-copy\n",
            "  \n"
          ]
        }
      ]
    },
    {
      "cell_type": "code",
      "metadata": {
        "colab": {
          "base_uri": "https://localhost:8080/",
          "height": 363
        },
        "id": "BiBtwn0CdQq4",
        "outputId": "1bee89bc-bb30-4029-9ccb-5fc569f23e7f"
      },
      "source": [
        "bike_sharing_data.sample(10)"
      ],
      "execution_count": null,
      "outputs": [
        {
          "output_type": "execute_result",
          "data": {
            "text/html": [
              "<div>\n",
              "<style scoped>\n",
              "    .dataframe tbody tr th:only-of-type {\n",
              "        vertical-align: middle;\n",
              "    }\n",
              "\n",
              "    .dataframe tbody tr th {\n",
              "        vertical-align: top;\n",
              "    }\n",
              "\n",
              "    .dataframe thead th {\n",
              "        text-align: right;\n",
              "    }\n",
              "</style>\n",
              "<table border=\"1\" class=\"dataframe\">\n",
              "  <thead>\n",
              "    <tr style=\"text-align: right;\">\n",
              "      <th></th>\n",
              "      <th>season</th>\n",
              "      <th>mnth</th>\n",
              "      <th>holiday</th>\n",
              "      <th>workingday</th>\n",
              "      <th>weathersit</th>\n",
              "      <th>temp</th>\n",
              "      <th>cnt</th>\n",
              "      <th>temp_category</th>\n",
              "    </tr>\n",
              "  </thead>\n",
              "  <tbody>\n",
              "    <tr>\n",
              "      <th>480</th>\n",
              "      <td>2</td>\n",
              "      <td>4</td>\n",
              "      <td>0</td>\n",
              "      <td>1</td>\n",
              "      <td>1</td>\n",
              "      <td>0.476667</td>\n",
              "      <td>6196</td>\n",
              "      <td>False</td>\n",
              "    </tr>\n",
              "    <tr>\n",
              "      <th>304</th>\n",
              "      <td>4</td>\n",
              "      <td>11</td>\n",
              "      <td>0</td>\n",
              "      <td>1</td>\n",
              "      <td>1</td>\n",
              "      <td>0.400833</td>\n",
              "      <td>4068</td>\n",
              "      <td>False</td>\n",
              "    </tr>\n",
              "    <tr>\n",
              "      <th>315</th>\n",
              "      <td>4</td>\n",
              "      <td>11</td>\n",
              "      <td>0</td>\n",
              "      <td>0</td>\n",
              "      <td>1</td>\n",
              "      <td>0.356667</td>\n",
              "      <td>4067</td>\n",
              "      <td>False</td>\n",
              "    </tr>\n",
              "    <tr>\n",
              "      <th>642</th>\n",
              "      <td>4</td>\n",
              "      <td>10</td>\n",
              "      <td>0</td>\n",
              "      <td>1</td>\n",
              "      <td>2</td>\n",
              "      <td>0.657500</td>\n",
              "      <td>7328</td>\n",
              "      <td>True</td>\n",
              "    </tr>\n",
              "    <tr>\n",
              "      <th>94</th>\n",
              "      <td>2</td>\n",
              "      <td>4</td>\n",
              "      <td>0</td>\n",
              "      <td>1</td>\n",
              "      <td>2</td>\n",
              "      <td>0.414167</td>\n",
              "      <td>1795</td>\n",
              "      <td>False</td>\n",
              "    </tr>\n",
              "    <tr>\n",
              "      <th>1</th>\n",
              "      <td>1</td>\n",
              "      <td>1</td>\n",
              "      <td>0</td>\n",
              "      <td>0</td>\n",
              "      <td>2</td>\n",
              "      <td>0.363478</td>\n",
              "      <td>801</td>\n",
              "      <td>False</td>\n",
              "    </tr>\n",
              "    <tr>\n",
              "      <th>203</th>\n",
              "      <td>3</td>\n",
              "      <td>7</td>\n",
              "      <td>0</td>\n",
              "      <td>0</td>\n",
              "      <td>1</td>\n",
              "      <td>0.849167</td>\n",
              "      <td>3285</td>\n",
              "      <td>True</td>\n",
              "    </tr>\n",
              "    <tr>\n",
              "      <th>309</th>\n",
              "      <td>4</td>\n",
              "      <td>11</td>\n",
              "      <td>0</td>\n",
              "      <td>0</td>\n",
              "      <td>1</td>\n",
              "      <td>0.348333</td>\n",
              "      <td>3649</td>\n",
              "      <td>False</td>\n",
              "    </tr>\n",
              "    <tr>\n",
              "      <th>728</th>\n",
              "      <td>1</td>\n",
              "      <td>12</td>\n",
              "      <td>0</td>\n",
              "      <td>0</td>\n",
              "      <td>2</td>\n",
              "      <td>0.253333</td>\n",
              "      <td>1341</td>\n",
              "      <td>False</td>\n",
              "    </tr>\n",
              "    <tr>\n",
              "      <th>674</th>\n",
              "      <td>4</td>\n",
              "      <td>11</td>\n",
              "      <td>0</td>\n",
              "      <td>1</td>\n",
              "      <td>1</td>\n",
              "      <td>0.319167</td>\n",
              "      <td>5259</td>\n",
              "      <td>False</td>\n",
              "    </tr>\n",
              "  </tbody>\n",
              "</table>\n",
              "</div>"
            ],
            "text/plain": [
              "     season  mnth  holiday  ...      temp   cnt  temp_category\n",
              "480       2     4        0  ...  0.476667  6196          False\n",
              "304       4    11        0  ...  0.400833  4068          False\n",
              "315       4    11        0  ...  0.356667  4067          False\n",
              "642       4    10        0  ...  0.657500  7328           True\n",
              "94        2     4        0  ...  0.414167  1795          False\n",
              "1         1     1        0  ...  0.363478   801          False\n",
              "203       3     7        0  ...  0.849167  3285           True\n",
              "309       4    11        0  ...  0.348333  3649          False\n",
              "728       1    12        0  ...  0.253333  1341          False\n",
              "674       4    11        0  ...  0.319167  5259          False\n",
              "\n",
              "[10 rows x 8 columns]"
            ]
          },
          "metadata": {},
          "execution_count": 183
        }
      ]
    },
    {
      "cell_type": "code",
      "metadata": {
        "colab": {
          "base_uri": "https://localhost:8080/",
          "height": 143
        },
        "id": "5NzaIkSodahq",
        "outputId": "581d7f2f-ec5a-42cf-8f43-93863a3a411e"
      },
      "source": [
        "# quick summary of two groups based on temperature category\n",
        "bike_sharing_data.groupby(\"temp_category\")[\"cnt\"].describe()"
      ],
      "execution_count": null,
      "outputs": [
        {
          "output_type": "execute_result",
          "data": {
            "text/html": [
              "<div>\n",
              "<style scoped>\n",
              "    .dataframe tbody tr th:only-of-type {\n",
              "        vertical-align: middle;\n",
              "    }\n",
              "\n",
              "    .dataframe tbody tr th {\n",
              "        vertical-align: top;\n",
              "    }\n",
              "\n",
              "    .dataframe thead th {\n",
              "        text-align: right;\n",
              "    }\n",
              "</style>\n",
              "<table border=\"1\" class=\"dataframe\">\n",
              "  <thead>\n",
              "    <tr style=\"text-align: right;\">\n",
              "      <th></th>\n",
              "      <th>count</th>\n",
              "      <th>mean</th>\n",
              "      <th>std</th>\n",
              "      <th>min</th>\n",
              "      <th>25%</th>\n",
              "      <th>50%</th>\n",
              "      <th>75%</th>\n",
              "      <th>max</th>\n",
              "    </tr>\n",
              "    <tr>\n",
              "      <th>temp_category</th>\n",
              "      <th></th>\n",
              "      <th></th>\n",
              "      <th></th>\n",
              "      <th></th>\n",
              "      <th></th>\n",
              "      <th></th>\n",
              "      <th></th>\n",
              "      <th></th>\n",
              "    </tr>\n",
              "  </thead>\n",
              "  <tbody>\n",
              "    <tr>\n",
              "      <th>False</th>\n",
              "      <td>364.0</td>\n",
              "      <td>3387.664835</td>\n",
              "      <td>1691.340133</td>\n",
              "      <td>22.0</td>\n",
              "      <td>1964.5</td>\n",
              "      <td>3301.0</td>\n",
              "      <td>4513.5</td>\n",
              "      <td>8090.0</td>\n",
              "    </tr>\n",
              "    <tr>\n",
              "      <th>True</th>\n",
              "      <td>367.0</td>\n",
              "      <td>5611.904632</td>\n",
              "      <td>1475.698228</td>\n",
              "      <td>1115.0</td>\n",
              "      <td>4548.5</td>\n",
              "      <td>5336.0</td>\n",
              "      <td>6897.5</td>\n",
              "      <td>8714.0</td>\n",
              "    </tr>\n",
              "  </tbody>\n",
              "</table>\n",
              "</div>"
            ],
            "text/plain": [
              "               count         mean          std  ...     50%     75%     max\n",
              "temp_category                                   ...                        \n",
              "False          364.0  3387.664835  1691.340133  ...  3301.0  4513.5  8090.0\n",
              "True           367.0  5611.904632  1475.698228  ...  5336.0  6897.5  8714.0\n",
              "\n",
              "[2 rows x 8 columns]"
            ]
          },
          "metadata": {},
          "execution_count": 184
        }
      ]
    },
    {
      "cell_type": "markdown",
      "metadata": {
        "id": "2roA849ufUNn"
      },
      "source": [
        "So from above data we can infer than on warmer days more bike were rented around 5600 and on coller days around 3400 bikes were rented.\n",
        "- Lets look at the boxplot to get the more firmer grip"
      ]
    },
    {
      "cell_type": "code",
      "metadata": {
        "colab": {
          "base_uri": "https://localhost:8080/",
          "height": 337
        },
        "id": "vMgJmEPPf9nk",
        "outputId": "4936d97e-6083-4def-aa59-9292fbb3381a"
      },
      "source": [
        "sns.boxplot(bike_sharing_data[\"temp_category\"],bike_sharing_data[\"cnt\"]);"
      ],
      "execution_count": null,
      "outputs": [
        {
          "output_type": "stream",
          "name": "stderr",
          "text": [
            "/usr/local/lib/python3.7/dist-packages/seaborn/_decorators.py:43: FutureWarning: Pass the following variables as keyword args: x, y. From version 0.12, the only valid positional argument will be `data`, and passing other arguments without an explicit keyword will result in an error or misinterpretation.\n",
            "  FutureWarning\n"
          ]
        },
        {
          "output_type": "display_data",
          "data": {
            "image/png": "[encoded data removed]",
            "text/plain": [
              "<Figure size 432x288 with 1 Axes>"
            ]
          },
          "metadata": {
            "needs_background": "light"
          }
        }
      ]
    },
    {
      "cell_type": "markdown",
      "metadata": {
        "id": "mHiGvWRtgLci"
      },
      "source": [
        "So box plot shows that these two distributions have very diffrent mens and medians but is this difference significant, we will see it using independent t-test"
      ]
    },
    {
      "cell_type": "code",
      "metadata": {
        "id": "leJakyxtgp8k"
      },
      "source": [
        "# split the dataset into two samples\n",
        "sample_01=bike_sharing_data[bike_sharing_data[\"temp_category\"]==True]\n",
        "sample_02=bike_sharing_data[bike_sharing_data[\"temp_category\"]==False]"
      ],
      "execution_count": null,
      "outputs": []
    },
    {
      "cell_type": "code",
      "metadata": {
        "colab": {
          "base_uri": "https://localhost:8080/"
        },
        "id": "7JfM3RGJg-zQ",
        "outputId": "6c7b9d8a-e370-44cd-ad7e-ffb287296286"
      },
      "source": [
        "sample_01.shape,sample_02.shape"
      ],
      "execution_count": null,
      "outputs": [
        {
          "output_type": "execute_result",
          "data": {
            "text/plain": [
              "((367, 8), (364, 8))"
            ]
          },
          "metadata": {},
          "execution_count": 187
        }
      ]
    },
    {
      "cell_type": "code",
      "metadata": {
        "id": "TzPK7GjyhGGx"
      },
      "source": [
        "sample_01=sample_01.sample(364,random_state=42)"
      ],
      "execution_count": null,
      "outputs": []
    },
    {
      "cell_type": "code",
      "metadata": {
        "colab": {
          "base_uri": "https://localhost:8080/"
        },
        "id": "ZjgcRm5Ahrxu",
        "outputId": "8446ef3b-f71e-4fe2-e3da-cc46b383849f"
      },
      "source": [
        "sample_01.shape,sample_02.shape"
      ],
      "execution_count": null,
      "outputs": [
        {
          "output_type": "execute_result",
          "data": {
            "text/plain": [
              "((364, 8), (364, 8))"
            ]
          },
          "metadata": {},
          "execution_count": 195
        }
      ]
    },
    {
      "cell_type": "code",
      "metadata": {
        "colab": {
          "base_uri": "https://localhost:8080/"
        },
        "id": "tZcI_CfUhZSq",
        "outputId": "106e90c3-3129-4b4a-c51f-dca906ff789b"
      },
      "source": [
        "# lets check for equal variance\n",
        "stats.levene(sample_01[\"cnt\"],sample_02[\"cnt\"])\n"
      ],
      "execution_count": null,
      "outputs": [
        {
          "output_type": "execute_result",
          "data": {
            "text/plain": [
              "LeveneResult(statistic=4.564007482766761, pvalue=0.03298435958007329)"
            ]
          },
          "metadata": {},
          "execution_count": 196
        }
      ]
    },
    {
      "cell_type": "markdown",
      "metadata": {
        "id": "CHUJzqgmhxbY"
      },
      "source": [
        "p-value less than 0.05. Thus test is significant and we conclude that two groups have unequal variance.\n",
        "Thus one of the assumption of independent t-test doesnot satisfy\n",
        " * second assumption is the distribution of the residuals between the two groups should follow the normal distribution"
      ]
    },
    {
      "cell_type": "code",
      "metadata": {
        "colab": {
          "base_uri": "https://localhost:8080/",
          "height": 387
        },
        "id": "ZdwdtYWOiDSl",
        "outputId": "5549c884-e566-46d3-efca-cee4a2ec1631"
      },
      "source": [
        "# lets calculate the residulas and standardise them to make them easy to work with\n",
        "\n",
        "diff=scale(np.array(sample_01[\"cnt\"])-np.array(sample_02[\"cnt\"]))\n",
        "#plot the residuals\n",
        "sns.displot(diff)"
      ],
      "execution_count": null,
      "outputs": [
        {
          "output_type": "execute_result",
          "data": {
            "text/plain": [
              "<seaborn.axisgrid.FacetGrid at 0x7feb8d3edf10>"
            ]
          },
          "metadata": {},
          "execution_count": 197
        },
        {
          "output_type": "display_data",
          "data": {
            "image/png": "[encoded data removed]",
            "text/plain": [
              "<Figure size 360x360 with 1 Axes>"
            ]
          },
          "metadata": {
            "needs_background": "light"
          }
        }
      ]
    },
    {
      "cell_type": "code",
      "metadata": {
        "colab": {
          "base_uri": "https://localhost:8080/",
          "height": 295
        },
        "id": "sTUUSeXyieRO",
        "outputId": "338b1412-2b27-4870-e254-5f764be05af1"
      },
      "source": [
        "#this give sus a rough idea of the residuals distributions\n",
        "# lets do a probapility plot\n",
        "stats.probplot(diff,plot=plt,dist=\"norm\");"
      ],
      "execution_count": null,
      "outputs": [
        {
          "output_type": "display_data",
          "data": {
            "image/png": "[encoded data removed]",
            "text/plain": [
              "<Figure size 432x288 with 1 Axes>"
            ]
          },
          "metadata": {
            "needs_background": "light"
          }
        }
      ]
    },
    {
      "cell_type": "code",
      "metadata": {
        "colab": {
          "base_uri": "https://localhost:8080/"
        },
        "id": "aJS6yL24imVN",
        "outputId": "f9cd8ebf-f1e3-43af-ec02-a5519eae8f93"
      },
      "source": [
        "stats.shapiro(diff)"
      ],
      "execution_count": null,
      "outputs": [
        {
          "output_type": "execute_result",
          "data": {
            "text/plain": [
              "(0.9964540004730225, 0.6013275980949402)"
            ]
          },
          "metadata": {},
          "execution_count": 199
        }
      ]
    },
    {
      "cell_type": "markdown",
      "metadata": {
        "id": "U_OxazcRi2vZ"
      },
      "source": [
        "p-value tells me to reject the alternate hypothesis and tells that the resuduals are normally distributed"
      ]
    },
    {
      "cell_type": "markdown",
      "metadata": {
        "id": "jQ1D9HGSjtuy"
      },
      "source": [
        "independent t-test"
      ]
    },
    {
      "cell_type": "code",
      "metadata": {
        "colab": {
          "base_uri": "https://localhost:8080/"
        },
        "id": "mcM7yhnBjzMv",
        "outputId": "ea0ccf02-289c-4106-8e61-cfc885ac6db9"
      },
      "source": [
        "stats.ttest_ind(sample_01[\"cnt\"],sample_02[\"cnt\"])"
      ],
      "execution_count": null,
      "outputs": [
        {
          "output_type": "execute_result",
          "data": {
            "text/plain": [
              "Ttest_indResult(statistic=18.882647454849966, pvalue=5.321364296288734e-65)"
            ]
          },
          "metadata": {},
          "execution_count": 200
        }
      ]
    },
    {
      "cell_type": "markdown",
      "metadata": {
        "id": "pZb0p59Sj8k1"
      },
      "source": [
        "p-value is very very low thus the test is significant which tells me the number of bikes rented on hot days versus the cooler days are significantly different"
      ]
    },
    {
      "cell_type": "markdown",
      "metadata": {
        "id": "f9SsDX_Ykdyz"
      },
      "source": [
        "But our levene test told us that the variance of the two groups are not same so in that case we have to do welch's t-test "
      ]
    },
    {
      "cell_type": "code",
      "metadata": {
        "colab": {
          "base_uri": "https://localhost:8080/"
        },
        "id": "zihGlJBdlZ7p",
        "outputId": "38307602-c23a-41c3-d212-5d20ff2315a0"
      },
      "source": [
        "stats.ttest_ind(sample_01[\"cnt\"],sample_02[\"cnt\"],equal_var=False)# equal_var=False for welch's t-test"
      ],
      "execution_count": null,
      "outputs": [
        {
          "output_type": "execute_result",
          "data": {
            "text/plain": [
              "Ttest_indResult(statistic=18.882647454849966, pvalue=8.433331318671356e-65)"
            ]
          },
          "metadata": {},
          "execution_count": 204
        }
      ]
    },
    {
      "cell_type": "code",
      "metadata": {
        "id": "ciw9T1CYlwvK"
      },
      "source": [
        "#using researchpy library to calculate welch's t-test\n",
        "descriptive,results=rp.ttest(sample_01[\"cnt\"],sample_02[\"cnt\"],equal_variances=False)"
      ],
      "execution_count": null,
      "outputs": []
    },
    {
      "cell_type": "code",
      "metadata": {
        "colab": {
          "base_uri": "https://localhost:8080/"
        },
        "id": "pfu7263Vl9LT",
        "outputId": "c037d17a-e741-4715-ad08-e4eadeb1b208"
      },
      "source": [
        "print(results)"
      ],
      "execution_count": null,
      "outputs": [
        {
          "output_type": "stream",
          "name": "stdout",
          "text": [
            "              Welch's t-test    results\n",
            "0  Difference (cnt - cnt) =   2222.7692\n",
            "1      Degrees of freedom =    715.0668\n",
            "2                       t =     18.8826\n",
            "3   Two side test p value =      0.0000\n",
            "4  Difference < 0 p value =      1.0000\n",
            "5  Difference > 0 p value =      0.0000\n",
            "6               Cohen's d =      1.3997\n",
            "7               Hedge's g =      1.3982\n",
            "8           Glass's delta =      1.5043\n",
            "9             Pearson's r =      0.5768\n"
          ]
        }
      ]
    },
    {
      "cell_type": "markdown",
      "metadata": {
        "id": "Zj4netCdl_pn"
      },
      "source": [
        "p-value equal to zero from both scipy and researchpy shows that the number of bikes rented on hot days versus the cooler days are significantly different"
      ]
    },
    {
      "cell_type": "code",
      "metadata": {
        "id": "wfp9aT3vmkSe"
      },
      "source": [
        ""
      ],
      "execution_count": null,
      "outputs": []
    },
    {
      "cell_type": "markdown",
      "metadata": {
        "id": "G5zBTfcwm9Z0"
      },
      "source": [
        "## Paired t-test"
      ]
    },
    {
      "cell_type": "code",
      "metadata": {
        "id": "hGpvLRjonADW"
      },
      "source": [
        "import statsmodels.api as sm\n",
        "import matplotlib.pyplot as plt\n",
        "import seaborn as sns\n",
        "import pandas as pd\n",
        "import numpy as np\n",
        "from sklearn.preprocessing import scale\n",
        "%matplotlib inline"
      ],
      "execution_count": 206,
      "outputs": []
    },
    {
      "cell_type": "code",
      "metadata": {
        "id": "z7yfUfO8nJ2S"
      },
      "source": [
        "data=pd.read_csv(\"https://raw.githubusercontent.com/Opensourcefordatascience/Data-sets/master/blood_pressure.csv\")"
      ],
      "execution_count": 207,
      "outputs": []
    },
    {
      "cell_type": "code",
      "metadata": {
        "colab": {
          "base_uri": "https://localhost:8080/",
          "height": 424
        },
        "id": "lNfZx40ink5v",
        "outputId": "80638bbf-fff2-4758-95ee-dbe045669c2e"
      },
      "source": [
        "data"
      ],
      "execution_count": 208,
      "outputs": [
        {
          "output_type": "execute_result",
          "data": {
            "text/html": [
              "<div>\n",
              "<style scoped>\n",
              "    .dataframe tbody tr th:only-of-type {\n",
              "        vertical-align: middle;\n",
              "    }\n",
              "\n",
              "    .dataframe tbody tr th {\n",
              "        vertical-align: top;\n",
              "    }\n",
              "\n",
              "    .dataframe thead th {\n",
              "        text-align: right;\n",
              "    }\n",
              "</style>\n",
              "<table border=\"1\" class=\"dataframe\">\n",
              "  <thead>\n",
              "    <tr style=\"text-align: right;\">\n",
              "      <th></th>\n",
              "      <th>patient</th>\n",
              "      <th>sex</th>\n",
              "      <th>agegrp</th>\n",
              "      <th>bp_before</th>\n",
              "      <th>bp_after</th>\n",
              "    </tr>\n",
              "  </thead>\n",
              "  <tbody>\n",
              "    <tr>\n",
              "      <th>0</th>\n",
              "      <td>1</td>\n",
              "      <td>Male</td>\n",
              "      <td>30-45</td>\n",
              "      <td>143</td>\n",
              "      <td>153</td>\n",
              "    </tr>\n",
              "    <tr>\n",
              "      <th>1</th>\n",
              "      <td>2</td>\n",
              "      <td>Male</td>\n",
              "      <td>30-45</td>\n",
              "      <td>163</td>\n",
              "      <td>170</td>\n",
              "    </tr>\n",
              "    <tr>\n",
              "      <th>2</th>\n",
              "      <td>3</td>\n",
              "      <td>Male</td>\n",
              "      <td>30-45</td>\n",
              "      <td>153</td>\n",
              "      <td>168</td>\n",
              "    </tr>\n",
              "    <tr>\n",
              "      <th>3</th>\n",
              "      <td>4</td>\n",
              "      <td>Male</td>\n",
              "      <td>30-45</td>\n",
              "      <td>153</td>\n",
              "      <td>142</td>\n",
              "    </tr>\n",
              "    <tr>\n",
              "      <th>4</th>\n",
              "      <td>5</td>\n",
              "      <td>Male</td>\n",
              "      <td>30-45</td>\n",
              "      <td>146</td>\n",
              "      <td>141</td>\n",
              "    </tr>\n",
              "    <tr>\n",
              "      <th>...</th>\n",
              "      <td>...</td>\n",
              "      <td>...</td>\n",
              "      <td>...</td>\n",
              "      <td>...</td>\n",
              "      <td>...</td>\n",
              "    </tr>\n",
              "    <tr>\n",
              "      <th>115</th>\n",
              "      <td>116</td>\n",
              "      <td>Female</td>\n",
              "      <td>60+</td>\n",
              "      <td>152</td>\n",
              "      <td>152</td>\n",
              "    </tr>\n",
              "    <tr>\n",
              "      <th>116</th>\n",
              "      <td>117</td>\n",
              "      <td>Female</td>\n",
              "      <td>60+</td>\n",
              "      <td>161</td>\n",
              "      <td>152</td>\n",
              "    </tr>\n",
              "    <tr>\n",
              "      <th>117</th>\n",
              "      <td>118</td>\n",
              "      <td>Female</td>\n",
              "      <td>60+</td>\n",
              "      <td>165</td>\n",
              "      <td>174</td>\n",
              "    </tr>\n",
              "    <tr>\n",
              "      <th>118</th>\n",
              "      <td>119</td>\n",
              "      <td>Female</td>\n",
              "      <td>60+</td>\n",
              "      <td>149</td>\n",
              "      <td>151</td>\n",
              "    </tr>\n",
              "    <tr>\n",
              "      <th>119</th>\n",
              "      <td>120</td>\n",
              "      <td>Female</td>\n",
              "      <td>60+</td>\n",
              "      <td>185</td>\n",
              "      <td>163</td>\n",
              "    </tr>\n",
              "  </tbody>\n",
              "</table>\n",
              "<p>120 rows × 5 columns</p>\n",
              "</div>"
            ],
            "text/plain": [
              "     patient     sex agegrp  bp_before  bp_after\n",
              "0          1    Male  30-45        143       153\n",
              "1          2    Male  30-45        163       170\n",
              "2          3    Male  30-45        153       168\n",
              "3          4    Male  30-45        153       142\n",
              "4          5    Male  30-45        146       141\n",
              "..       ...     ...    ...        ...       ...\n",
              "115      116  Female    60+        152       152\n",
              "116      117  Female    60+        161       152\n",
              "117      118  Female    60+        165       174\n",
              "118      119  Female    60+        149       151\n",
              "119      120  Female    60+        185       163\n",
              "\n",
              "[120 rows x 5 columns]"
            ]
          },
          "metadata": {},
          "execution_count": 208
        }
      ]
    },
    {
      "cell_type": "code",
      "metadata": {
        "colab": {
          "base_uri": "https://localhost:8080/"
        },
        "id": "umBFvU57nl_B",
        "outputId": "7b924720-e747-4643-b7b2-cfcd4199a9ae"
      },
      "source": [
        "data.info(),data.shape"
      ],
      "execution_count": 211,
      "outputs": [
        {
          "output_type": "stream",
          "name": "stdout",
          "text": [
            "<class 'pandas.core.frame.DataFrame'>\n",
            "RangeIndex: 120 entries, 0 to 119\n",
            "Data columns (total 5 columns):\n",
            " #   Column     Non-Null Count  Dtype \n",
            "---  ------     --------------  ----- \n",
            " 0   patient    120 non-null    int64 \n",
            " 1   sex        120 non-null    object\n",
            " 2   agegrp     120 non-null    object\n",
            " 3   bp_before  120 non-null    int64 \n",
            " 4   bp_after   120 non-null    int64 \n",
            "dtypes: int64(3), object(2)\n",
            "memory usage: 4.8+ KB\n"
          ]
        },
        {
          "output_type": "execute_result",
          "data": {
            "text/plain": [
              "(None, (120, 5))"
            ]
          },
          "metadata": {},
          "execution_count": 211
        }
      ]
    },
    {
      "cell_type": "code",
      "metadata": {
        "id": "dlzH-215nqCu"
      },
      "source": [
        "# use paired t-test to see that the blood pressure before and after the intervention are statisticaly significant"
      ],
      "execution_count": 210,
      "outputs": []
    },
    {
      "cell_type": "code",
      "metadata": {
        "colab": {
          "base_uri": "https://localhost:8080/",
          "height": 143
        },
        "id": "s-Qld9eVn5I7",
        "outputId": "0890b648-a7bc-4d31-9892-9b1f6f26dce3"
      },
      "source": [
        "data.describe().T"
      ],
      "execution_count": 213,
      "outputs": [
        {
          "output_type": "execute_result",
          "data": {
            "text/html": [
              "<div>\n",
              "<style scoped>\n",
              "    .dataframe tbody tr th:only-of-type {\n",
              "        vertical-align: middle;\n",
              "    }\n",
              "\n",
              "    .dataframe tbody tr th {\n",
              "        vertical-align: top;\n",
              "    }\n",
              "\n",
              "    .dataframe thead th {\n",
              "        text-align: right;\n",
              "    }\n",
              "</style>\n",
              "<table border=\"1\" class=\"dataframe\">\n",
              "  <thead>\n",
              "    <tr style=\"text-align: right;\">\n",
              "      <th></th>\n",
              "      <th>count</th>\n",
              "      <th>mean</th>\n",
              "      <th>std</th>\n",
              "      <th>min</th>\n",
              "      <th>25%</th>\n",
              "      <th>50%</th>\n",
              "      <th>75%</th>\n",
              "      <th>max</th>\n",
              "    </tr>\n",
              "  </thead>\n",
              "  <tbody>\n",
              "    <tr>\n",
              "      <th>patient</th>\n",
              "      <td>120.0</td>\n",
              "      <td>60.500000</td>\n",
              "      <td>34.785054</td>\n",
              "      <td>1.0</td>\n",
              "      <td>30.75</td>\n",
              "      <td>60.5</td>\n",
              "      <td>90.25</td>\n",
              "      <td>120.0</td>\n",
              "    </tr>\n",
              "    <tr>\n",
              "      <th>bp_before</th>\n",
              "      <td>120.0</td>\n",
              "      <td>156.450000</td>\n",
              "      <td>11.389845</td>\n",
              "      <td>138.0</td>\n",
              "      <td>147.00</td>\n",
              "      <td>154.5</td>\n",
              "      <td>164.00</td>\n",
              "      <td>185.0</td>\n",
              "    </tr>\n",
              "    <tr>\n",
              "      <th>bp_after</th>\n",
              "      <td>120.0</td>\n",
              "      <td>151.358333</td>\n",
              "      <td>14.177622</td>\n",
              "      <td>125.0</td>\n",
              "      <td>140.75</td>\n",
              "      <td>149.5</td>\n",
              "      <td>161.00</td>\n",
              "      <td>185.0</td>\n",
              "    </tr>\n",
              "  </tbody>\n",
              "</table>\n",
              "</div>"
            ],
            "text/plain": [
              "           count        mean        std    min     25%    50%     75%    max\n",
              "patient    120.0   60.500000  34.785054    1.0   30.75   60.5   90.25  120.0\n",
              "bp_before  120.0  156.450000  11.389845  138.0  147.00  154.5  164.00  185.0\n",
              "bp_after   120.0  151.358333  14.177622  125.0  140.75  149.5  161.00  185.0"
            ]
          },
          "metadata": {},
          "execution_count": 213
        }
      ]
    },
    {
      "cell_type": "code",
      "metadata": {
        "colab": {
          "base_uri": "https://localhost:8080/",
          "height": 447
        },
        "id": "jThNlY8dn_pL",
        "outputId": "07feefd3-8301-45a8-90b5-040bdb1aadd9"
      },
      "source": [
        "#Lets take a quick look at the data visually using boxplot\n",
        "data[[\"bp_before\",\"bp_after\"]].plot(kind=\"box\",figsize=(10,7))"
      ],
      "execution_count": 220,
      "outputs": [
        {
          "output_type": "execute_result",
          "data": {
            "text/plain": [
              "<matplotlib.axes._subplots.AxesSubplot at 0x7feb8d2a9b90>"
            ]
          },
          "metadata": {},
          "execution_count": 220
        },
        {
          "output_type": "display_data",
          "data": {
            "image/png": "[encoded data removed]",
            "text/plain": [
              "<Figure size 720x504 with 1 Axes>"
            ]
          },
          "metadata": {
            "needs_background": "light"
          }
        }
      ]
    },
    {
      "cell_type": "markdown",
      "metadata": {
        "id": "W6N_xVCAokjD"
      },
      "source": [
        "boxplot shows us that the median and ranges are different but is the difference significant lets test\n",
        "- assumption Checks\n",
        "  - equal variance between two groups or not using levene test\n",
        "  - normality of residuals of two groups\n",
        "  "
      ]
    },
    {
      "cell_type": "code",
      "metadata": {
        "colab": {
          "base_uri": "https://localhost:8080/"
        },
        "id": "SnmdWpd_orQQ",
        "outputId": "b72df741-47fa-41a5-8c40-a8b807e7182d"
      },
      "source": [
        "stats.levene(data[\"bp_before\"],data[\"bp_after\"])"
      ],
      "execution_count": 221,
      "outputs": [
        {
          "output_type": "execute_result",
          "data": {
            "text/plain": [
              "LeveneResult(statistic=4.863729003161597, pvalue=0.028383666362347747)"
            ]
          },
          "metadata": {},
          "execution_count": 221
        }
      ]
    },
    {
      "cell_type": "markdown",
      "metadata": {
        "id": "Dh_0leHlp0Z2"
      },
      "source": [
        "p-value less than 0.05 implies variance across the two groups is not same. thus it tells us we cant use independent t-test for our paired samples"
      ]
    },
    {
      "cell_type": "code",
      "metadata": {
        "id": "KOmI3g1_qQzr"
      },
      "source": [
        "# lets check normality of residuals\n",
        "bp_diff=scale(np.array(data[\"bp_before\"])-np.array(data[\"bp_after\"]))"
      ],
      "execution_count": 222,
      "outputs": []
    },
    {
      "cell_type": "code",
      "metadata": {
        "colab": {
          "base_uri": "https://localhost:8080/",
          "height": 387
        },
        "id": "tY7hbi8tqiIF",
        "outputId": "041aaf49-32a4-432e-fa89-2f5a95cb1a3b"
      },
      "source": [
        "sns.displot(diff)"
      ],
      "execution_count": 223,
      "outputs": [
        {
          "output_type": "execute_result",
          "data": {
            "text/plain": [
              "<seaborn.axisgrid.FacetGrid at 0x7feb9d5e2e50>"
            ]
          },
          "metadata": {},
          "execution_count": 223
        },
        {
          "output_type": "display_data",
          "data": {
            "image/png": "[encoded data removed]",
            "text/plain": [
              "<Figure size 360x360 with 1 Axes>"
            ]
          },
          "metadata": {
            "needs_background": "light"
          }
        }
      ]
    },
    {
      "cell_type": "code",
      "metadata": {
        "colab": {
          "base_uri": "https://localhost:8080/",
          "height": 295
        },
        "id": "R6F8V14KqnOn",
        "outputId": "dd7586d9-7ca0-43d5-862a-74b187f07aa3"
      },
      "source": [
        "stats.probplot(bp_diff,plot=plt,dist=\"norm\");"
      ],
      "execution_count": 225,
      "outputs": [
        {
          "output_type": "display_data",
          "data": {
            "image/png": "[encoded data removed]",
            "text/plain": [
              "<Figure size 432x288 with 1 Axes>"
            ]
          },
          "metadata": {
            "needs_background": "light"
          }
        }
      ]
    },
    {
      "cell_type": "code",
      "metadata": {
        "colab": {
          "base_uri": "https://localhost:8080/"
        },
        "id": "NsL0LOWuqypK",
        "outputId": "5bf18ff3-2bb6-473c-cbfb-962d4c1afa4c"
      },
      "source": [
        "stats.shapiro(bp_diff)"
      ],
      "execution_count": 226,
      "outputs": [
        {
          "output_type": "execute_result",
          "data": {
            "text/plain": [
              "(0.992684006690979, 0.7841646671295166)"
            ]
          },
          "metadata": {},
          "execution_count": 226
        }
      ]
    },
    {
      "cell_type": "markdown",
      "metadata": {
        "id": "6ihJL0Utq5aO"
      },
      "source": [
        "all the three measures used(histogram,probplots,shapiro test) show that the residuals are normally distributed"
      ]
    },
    {
      "cell_type": "code",
      "metadata": {
        "colab": {
          "base_uri": "https://localhost:8080/"
        },
        "id": "luYyPipZrK8q",
        "outputId": "f09538bc-b13f-453a-865c-03cd9ee83a1b"
      },
      "source": [
        "# now perform the t-test\n",
        "stats.ttest_rel(data[\"bp_before\"],data[\"bp_after\"])"
      ],
      "execution_count": 227,
      "outputs": [
        {
          "output_type": "execute_result",
          "data": {
            "text/plain": [
              "Ttest_relResult(statistic=3.3371870510833657, pvalue=0.0011297914644840823)"
            ]
          },
          "metadata": {},
          "execution_count": 227
        }
      ]
    },
    {
      "cell_type": "markdown",
      "metadata": {
        "id": "7PNrKLHHwzpA"
      },
      "source": [
        "p-value is less than 0.05% thus the test is significant and the difference in means before the intervention and after the intervention is different.\n",
        "- But levene test showed us that the two groups have unequal varainces thus we cant completely rely on this t-test"
      ]
    },
    {
      "cell_type": "code",
      "metadata": {
        "colab": {
          "base_uri": "https://localhost:8080/",
          "height": 238
        },
        "id": "mP934A8RxIr6",
        "outputId": "975fdbb0-21ac-444e-e2c4-deafc4ace910"
      },
      "source": [
        "# use researchpy library to perform paired t-test fro the paired groupes with unequal variances\n",
        "rp.ttest(data[\"bp_before\"],data[\"bp_after\"],paired=True,equal_variances=False)"
      ],
      "execution_count": 235,
      "outputs": [
        {
          "output_type": "execute_result",
          "data": {
            "text/html": [
              "<div>\n",
              "<style scoped>\n",
              "    .dataframe tbody tr th:only-of-type {\n",
              "        vertical-align: middle;\n",
              "    }\n",
              "\n",
              "    .dataframe tbody tr th {\n",
              "        vertical-align: top;\n",
              "    }\n",
              "\n",
              "    .dataframe thead th {\n",
              "        text-align: right;\n",
              "    }\n",
              "</style>\n",
              "<table border=\"1\" class=\"dataframe\">\n",
              "  <thead>\n",
              "    <tr style=\"text-align: right;\">\n",
              "      <th></th>\n",
              "      <th>Wilcoxon signed-rank test</th>\n",
              "      <th>results</th>\n",
              "    </tr>\n",
              "  </thead>\n",
              "  <tbody>\n",
              "    <tr>\n",
              "      <th>0</th>\n",
              "      <td>Mean for bp_before =</td>\n",
              "      <td>156.450000</td>\n",
              "    </tr>\n",
              "    <tr>\n",
              "      <th>1</th>\n",
              "      <td>Mean for bp_after =</td>\n",
              "      <td>151.358333</td>\n",
              "    </tr>\n",
              "    <tr>\n",
              "      <th>2</th>\n",
              "      <td>W value =</td>\n",
              "      <td>2234.500000</td>\n",
              "    </tr>\n",
              "    <tr>\n",
              "      <th>3</th>\n",
              "      <td>Z value =</td>\n",
              "      <td>-3.191600</td>\n",
              "    </tr>\n",
              "    <tr>\n",
              "      <th>4</th>\n",
              "      <td>Two sided p value =</td>\n",
              "      <td>0.001400</td>\n",
              "    </tr>\n",
              "    <tr>\n",
              "      <th>5</th>\n",
              "      <td>r =</td>\n",
              "      <td>-0.206000</td>\n",
              "    </tr>\n",
              "  </tbody>\n",
              "</table>\n",
              "</div>"
            ],
            "text/plain": [
              "  Wilcoxon signed-rank test      results\n",
              "0     Mean for bp_before =    156.450000\n",
              "1      Mean for bp_after =    151.358333\n",
              "2                W value =   2234.500000\n",
              "3                Z value =     -3.191600\n",
              "4      Two sided p value =      0.001400\n",
              "5                      r =     -0.206000"
            ]
          },
          "metadata": {},
          "execution_count": 235
        }
      ]
    },
    {
      "cell_type": "markdown",
      "metadata": {
        "id": "-Qxiz6-9xw-c"
      },
      "source": [
        "above p-value also shows that the intervention performed has a significant effect on the blood pressures"
      ]
    },
    {
      "cell_type": "code",
      "metadata": {
        "id": "8f4ZKNS8yWJj"
      },
      "source": [
        ""
      ],
      "execution_count": null,
      "outputs": []
    }
  ]
}