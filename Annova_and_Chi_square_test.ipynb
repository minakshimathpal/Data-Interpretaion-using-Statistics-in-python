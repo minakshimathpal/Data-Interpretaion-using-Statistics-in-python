{
  "nbformat": 4,
  "nbformat_minor": 0,
  "metadata": {
    "colab": {
      "name": "Annova_and_Chi_square_test.ipynb",
      "provenance": []
    },
    "kernelspec": {
      "name": "python3",
      "display_name": "Python 3"
    },
    "language_info": {
      "name": "python"
    }
  },
  "cells": [
    {
      "cell_type": "code",
      "metadata": {
        "colab": {
          "base_uri": "https://localhost:8080/"
        },
        "id": "4lI5cmwKmDnr",
        "outputId": "6d65b740-3a95-4b88-aa6d-bf44de1efefb"
      },
      "source": [
        "pip install researchpy"
      ],
      "execution_count": 14,
      "outputs": [
        {
          "output_type": "stream",
          "name": "stdout",
          "text": [
            "Collecting researchpy\n",
            "  Downloading researchpy-0.3.2-py3-none-any.whl (15 kB)\n",
            "Requirement already satisfied: statsmodels in /usr/local/lib/python3.7/dist-packages (from researchpy) (0.10.2)\n",
            "Requirement already satisfied: numpy in /usr/local/lib/python3.7/dist-packages (from researchpy) (1.19.5)\n",
            "Requirement already satisfied: pandas in /usr/local/lib/python3.7/dist-packages (from researchpy) (1.1.5)\n",
            "Requirement already satisfied: patsy in /usr/local/lib/python3.7/dist-packages (from researchpy) (0.5.1)\n",
            "Requirement already satisfied: scipy in /usr/local/lib/python3.7/dist-packages (from researchpy) (1.4.1)\n",
            "Requirement already satisfied: pytz>=2017.2 in /usr/local/lib/python3.7/dist-packages (from pandas->researchpy) (2018.9)\n",
            "Requirement already satisfied: python-dateutil>=2.7.3 in /usr/local/lib/python3.7/dist-packages (from pandas->researchpy) (2.8.2)\n",
            "Requirement already satisfied: six>=1.5 in /usr/local/lib/python3.7/dist-packages (from python-dateutil>=2.7.3->pandas->researchpy) (1.15.0)\n",
            "Installing collected packages: researchpy\n",
            "Successfully installed researchpy-0.3.2\n"
          ]
        }
      ]
    },
    {
      "cell_type": "code",
      "metadata": {
        "id": "QdDjHm09laHY"
      },
      "source": [
        "import numpy as np\n",
        "import pandas as pd\n",
        "import matplotlib.pyplot as plt\n",
        "import seaborn as sns\n",
        "from scipy.stats import f_oneway\n",
        "import researchpy as rp\n",
        "import warnings\n",
        "warnings.filterwarnings(\"ignore\")\n",
        "from statsmodels.formula.api import ols"
      ],
      "execution_count": 72,
      "outputs": []
    },
    {
      "cell_type": "code",
      "metadata": {
        "id": "1dWZ8RXbl0nr"
      },
      "source": [
        "bike_sharing_data=pd.read_csv(\"/content/day.csv\")"
      ],
      "execution_count": 5,
      "outputs": []
    },
    {
      "cell_type": "code",
      "metadata": {
        "id": "G82fRUoFopfF"
      },
      "source": [
        "bike_sharing_data=bike_sharing_data[[\"season\",\"mnth\",\"holiday\",\"workingday\",\"weathersit\",\"temp\",\"cnt\"]]"
      ],
      "execution_count": 6,
      "outputs": []
    },
    {
      "cell_type": "code",
      "metadata": {
        "colab": {
          "base_uri": "https://localhost:8080/",
          "height": 206
        },
        "id": "rCLxdp9FqKQX",
        "outputId": "0b22bb1f-c907-4d8c-819d-1fbb74c537a5"
      },
      "source": [
        "bike_sharing_data.head()"
      ],
      "execution_count": 7,
      "outputs": [
        {
          "output_type": "execute_result",
          "data": {
            "text/html": [
              "<div>\n",
              "<style scoped>\n",
              "    .dataframe tbody tr th:only-of-type {\n",
              "        vertical-align: middle;\n",
              "    }\n",
              "\n",
              "    .dataframe tbody tr th {\n",
              "        vertical-align: top;\n",
              "    }\n",
              "\n",
              "    .dataframe thead th {\n",
              "        text-align: right;\n",
              "    }\n",
              "</style>\n",
              "<table border=\"1\" class=\"dataframe\">\n",
              "  <thead>\n",
              "    <tr style=\"text-align: right;\">\n",
              "      <th></th>\n",
              "      <th>season</th>\n",
              "      <th>mnth</th>\n",
              "      <th>holiday</th>\n",
              "      <th>workingday</th>\n",
              "      <th>weathersit</th>\n",
              "      <th>temp</th>\n",
              "      <th>cnt</th>\n",
              "    </tr>\n",
              "  </thead>\n",
              "  <tbody>\n",
              "    <tr>\n",
              "      <th>0</th>\n",
              "      <td>1</td>\n",
              "      <td>1</td>\n",
              "      <td>0</td>\n",
              "      <td>0</td>\n",
              "      <td>2</td>\n",
              "      <td>0.344167</td>\n",
              "      <td>985</td>\n",
              "    </tr>\n",
              "    <tr>\n",
              "      <th>1</th>\n",
              "      <td>1</td>\n",
              "      <td>1</td>\n",
              "      <td>0</td>\n",
              "      <td>0</td>\n",
              "      <td>2</td>\n",
              "      <td>0.363478</td>\n",
              "      <td>801</td>\n",
              "    </tr>\n",
              "    <tr>\n",
              "      <th>2</th>\n",
              "      <td>1</td>\n",
              "      <td>1</td>\n",
              "      <td>0</td>\n",
              "      <td>1</td>\n",
              "      <td>1</td>\n",
              "      <td>0.196364</td>\n",
              "      <td>1349</td>\n",
              "    </tr>\n",
              "    <tr>\n",
              "      <th>3</th>\n",
              "      <td>1</td>\n",
              "      <td>1</td>\n",
              "      <td>0</td>\n",
              "      <td>1</td>\n",
              "      <td>1</td>\n",
              "      <td>0.200000</td>\n",
              "      <td>1562</td>\n",
              "    </tr>\n",
              "    <tr>\n",
              "      <th>4</th>\n",
              "      <td>1</td>\n",
              "      <td>1</td>\n",
              "      <td>0</td>\n",
              "      <td>1</td>\n",
              "      <td>1</td>\n",
              "      <td>0.226957</td>\n",
              "      <td>1600</td>\n",
              "    </tr>\n",
              "  </tbody>\n",
              "</table>\n",
              "</div>"
            ],
            "text/plain": [
              "   season  mnth  holiday  workingday  weathersit      temp   cnt\n",
              "0       1     1        0           0           2  0.344167   985\n",
              "1       1     1        0           0           2  0.363478   801\n",
              "2       1     1        0           1           1  0.196364  1349\n",
              "3       1     1        0           1           1  0.200000  1562\n",
              "4       1     1        0           1           1  0.226957  1600"
            ]
          },
          "metadata": {},
          "execution_count": 7
        }
      ]
    },
    {
      "cell_type": "code",
      "metadata": {
        "colab": {
          "base_uri": "https://localhost:8080/"
        },
        "id": "ccqeSaDtqO2Z",
        "outputId": "927d3b4c-5011-4b82-f8d1-a1bb2f261225"
      },
      "source": [
        "bike_sharing_data.shape"
      ],
      "execution_count": 8,
      "outputs": [
        {
          "output_type": "execute_result",
          "data": {
            "text/plain": [
              "(731, 7)"
            ]
          },
          "metadata": {},
          "execution_count": 8
        }
      ]
    },
    {
      "cell_type": "code",
      "metadata": {
        "colab": {
          "base_uri": "https://localhost:8080/"
        },
        "id": "GGm1UCYrqRfe",
        "outputId": "8c3c5c92-c752-47fc-d230-d37e2e6cfc06"
      },
      "source": [
        "bike_sharing_data.info()"
      ],
      "execution_count": 9,
      "outputs": [
        {
          "output_type": "stream",
          "name": "stdout",
          "text": [
            "<class 'pandas.core.frame.DataFrame'>\n",
            "RangeIndex: 731 entries, 0 to 730\n",
            "Data columns (total 7 columns):\n",
            " #   Column      Non-Null Count  Dtype  \n",
            "---  ------      --------------  -----  \n",
            " 0   season      731 non-null    int64  \n",
            " 1   mnth        731 non-null    int64  \n",
            " 2   holiday     731 non-null    int64  \n",
            " 3   workingday  731 non-null    int64  \n",
            " 4   weathersit  731 non-null    int64  \n",
            " 5   temp        731 non-null    float64\n",
            " 6   cnt         731 non-null    int64  \n",
            "dtypes: float64(1), int64(6)\n",
            "memory usage: 40.1 KB\n"
          ]
        }
      ]
    },
    {
      "cell_type": "code",
      "metadata": {
        "colab": {
          "base_uri": "https://localhost:8080/"
        },
        "id": "YtN0IzomqUPF",
        "outputId": "274045f5-7be7-430c-a10a-a430064c68f0"
      },
      "source": [
        "bike_sharing_data[\"weathersit\"].unique()"
      ],
      "execution_count": 10,
      "outputs": [
        {
          "output_type": "execute_result",
          "data": {
            "text/plain": [
              "array([2, 1, 3])"
            ]
          },
          "metadata": {},
          "execution_count": 10
        }
      ]
    },
    {
      "cell_type": "markdown",
      "metadata": {
        "id": "eVVa26shqc1C"
      },
      "source": [
        "weathersit is the column which have three different categorical value thus we can use this column to do anova test as opposed to t-test which is used to compare just two groups of sample"
      ]
    },
    {
      "cell_type": "code",
      "metadata": {
        "colab": {
          "base_uri": "https://localhost:8080/",
          "height": 175
        },
        "id": "utePAX6sq6yt",
        "outputId": "4c096332-4269-4fdb-9755-a2a8afee65b5"
      },
      "source": [
        "bike_sharing_data.groupby(\"weathersit\")[\"cnt\"].describe()"
      ],
      "execution_count": 11,
      "outputs": [
        {
          "output_type": "execute_result",
          "data": {
            "text/html": [
              "<div>\n",
              "<style scoped>\n",
              "    .dataframe tbody tr th:only-of-type {\n",
              "        vertical-align: middle;\n",
              "    }\n",
              "\n",
              "    .dataframe tbody tr th {\n",
              "        vertical-align: top;\n",
              "    }\n",
              "\n",
              "    .dataframe thead th {\n",
              "        text-align: right;\n",
              "    }\n",
              "</style>\n",
              "<table border=\"1\" class=\"dataframe\">\n",
              "  <thead>\n",
              "    <tr style=\"text-align: right;\">\n",
              "      <th></th>\n",
              "      <th>count</th>\n",
              "      <th>mean</th>\n",
              "      <th>std</th>\n",
              "      <th>min</th>\n",
              "      <th>25%</th>\n",
              "      <th>50%</th>\n",
              "      <th>75%</th>\n",
              "      <th>max</th>\n",
              "    </tr>\n",
              "    <tr>\n",
              "      <th>weathersit</th>\n",
              "      <th></th>\n",
              "      <th></th>\n",
              "      <th></th>\n",
              "      <th></th>\n",
              "      <th></th>\n",
              "      <th></th>\n",
              "      <th></th>\n",
              "      <th></th>\n",
              "    </tr>\n",
              "  </thead>\n",
              "  <tbody>\n",
              "    <tr>\n",
              "      <th>1</th>\n",
              "      <td>463.0</td>\n",
              "      <td>4876.786177</td>\n",
              "      <td>1879.483989</td>\n",
              "      <td>431.0</td>\n",
              "      <td>3636.5</td>\n",
              "      <td>4844.0</td>\n",
              "      <td>6458.5</td>\n",
              "      <td>8714.0</td>\n",
              "    </tr>\n",
              "    <tr>\n",
              "      <th>2</th>\n",
              "      <td>247.0</td>\n",
              "      <td>4035.862348</td>\n",
              "      <td>1809.109918</td>\n",
              "      <td>605.0</td>\n",
              "      <td>2674.5</td>\n",
              "      <td>4040.0</td>\n",
              "      <td>5257.5</td>\n",
              "      <td>8362.0</td>\n",
              "    </tr>\n",
              "    <tr>\n",
              "      <th>3</th>\n",
              "      <td>21.0</td>\n",
              "      <td>1803.285714</td>\n",
              "      <td>1240.284449</td>\n",
              "      <td>22.0</td>\n",
              "      <td>705.0</td>\n",
              "      <td>1817.0</td>\n",
              "      <td>2424.0</td>\n",
              "      <td>4639.0</td>\n",
              "    </tr>\n",
              "  </tbody>\n",
              "</table>\n",
              "</div>"
            ],
            "text/plain": [
              "            count         mean          std  ...     50%     75%     max\n",
              "weathersit                                   ...                        \n",
              "1           463.0  4876.786177  1879.483989  ...  4844.0  6458.5  8714.0\n",
              "2           247.0  4035.862348  1809.109918  ...  4040.0  5257.5  8362.0\n",
              "3            21.0  1803.285714  1240.284449  ...  1817.0  2424.0  4639.0\n",
              "\n",
              "[3 rows x 8 columns]"
            ]
          },
          "metadata": {},
          "execution_count": 11
        }
      ]
    },
    {
      "cell_type": "markdown",
      "metadata": {
        "id": "x_ezyvI-rMWy"
      },
      "source": [
        "Count of bikes rented as per weathersituation are very different among each group.Similarly the mean and median of the numberof bikes rented is also different but we want to test how significant these differences are.One way ANOVA will tell us this"
      ]
    },
    {
      "cell_type": "code",
      "metadata": {
        "colab": {
          "base_uri": "https://localhost:8080/",
          "height": 354
        },
        "id": "EEr_gCRPScJH",
        "outputId": "0373933e-8c8e-4cf3-c45e-1a11744b525a"
      },
      "source": [
        "sns.boxplot(bike_sharing_data[\"weathersit\"],bike_sharing_data[\"cnt\"])"
      ],
      "execution_count": 13,
      "outputs": [
        {
          "output_type": "stream",
          "name": "stderr",
          "text": [
            "/usr/local/lib/python3.7/dist-packages/seaborn/_decorators.py:43: FutureWarning: Pass the following variables as keyword args: x, y. From version 0.12, the only valid positional argument will be `data`, and passing other arguments without an explicit keyword will result in an error or misinterpretation.\n",
            "  FutureWarning\n"
          ]
        },
        {
          "output_type": "execute_result",
          "data": {
            "text/plain": [
              "<matplotlib.axes._subplots.AxesSubplot at 0x7fee13199190>"
            ]
          },
          "metadata": {},
          "execution_count": 13
        },
        {
          "output_type": "display_data",
          "data": {
            "image/png": "[encoded data removed]",
            "text/plain": [
              "<Figure size 432x288 with 1 Axes>"
            ]
          },
          "metadata": {
            "needs_background": "light"
          }
        }
      ]
    },
    {
      "cell_type": "markdown",
      "metadata": {
        "id": "ZobEQmc2SsO1"
      },
      "source": [
        "medians of the three categories are very different and they have different spread also."
      ]
    },
    {
      "cell_type": "code",
      "metadata": {
        "colab": {
          "base_uri": "https://localhost:8080/"
        },
        "id": "RwdrwqRfTJqa",
        "outputId": "26ab43f1-e72e-44f8-f87a-4b8a9fd21948"
      },
      "source": [
        "f_oneway(bike_sharing_data[bike_sharing_data[\"weathersit\"]==1][\"cnt\"],\n",
        "         bike_sharing_data[bike_sharing_data[\"weathersit\"]==2][\"cnt\"],\n",
        "         bike_sharing_data[bike_sharing_data[\"weathersit\"]==3][\"cnt\"])"
      ],
      "execution_count": 22,
      "outputs": [
        {
          "output_type": "execute_result",
          "data": {
            "text/plain": [
              "F_onewayResult(statistic=40.06604492024684, pvalue=3.106317270053755e-17)"
            ]
          },
          "metadata": {},
          "execution_count": 22
        }
      ]
    },
    {
      "cell_type": "markdown",
      "metadata": {
        "id": "KH6MpumIUO9z"
      },
      "source": [
        "- p-value indicates that the differences in the mean between these three categories or samples are significant. The weather situation on a particular day does have an impact on the count of bikes rented on that day\n",
        "- one way annova tells us that the means are different but it does not tells which group has different mean as compared to other groups\n",
        "- for this we will use tukey's Honest significant difference test.It tell which specific group has different mean"
      ]
    },
    {
      "cell_type": "code",
      "metadata": {
        "id": "47h-nK2iTq5o"
      },
      "source": [
        "from statsmodels.stats.multicomp import MultiComparison\n",
        "multi_comp=MultiComparison(bike_sharing_data[\"cnt\"],bike_sharing_data[\"weathersit\"])\n",
        "multi_comp_result=multi_comp.tukeyhsd()\n"
      ],
      "execution_count": 26,
      "outputs": []
    },
    {
      "cell_type": "code",
      "metadata": {
        "colab": {
          "base_uri": "https://localhost:8080/"
        },
        "id": "r4GDJt4eafMN",
        "outputId": "19dce6da-2d79-40d1-b7cf-42f5c06c948b"
      },
      "source": [
        "print(multi_comp_result)"
      ],
      "execution_count": 27,
      "outputs": [
        {
          "output_type": "stream",
          "name": "stdout",
          "text": [
            "    Multiple Comparison of Means - Tukey HSD, FWER=0.05    \n",
            "===========================================================\n",
            "group1 group2  meandiff  p-adj   lower      upper    reject\n",
            "-----------------------------------------------------------\n",
            "     1      2  -840.9238 0.001  -1181.639  -500.2086   True\n",
            "     1      3 -3073.5005 0.001 -4038.2706 -2108.7304   True\n",
            "     2      3 -2232.5766 0.001 -3215.4794 -1249.6738   True\n",
            "-----------------------------------------------------------\n"
          ]
        }
      ]
    },
    {
      "cell_type": "markdown",
      "metadata": {
        "id": "hyJx4PEQTyQY"
      },
      "source": [
        "## Two way ANOVA\n",
        "two way anova examines the influence of the two different categorical variable on one continous independent variable\n",
        "- we will use two categorical variables\n",
        "  - weather situation and season"
      ]
    },
    {
      "cell_type": "code",
      "metadata": {
        "colab": {
          "base_uri": "https://localhost:8080/"
        },
        "id": "fSexrq8iT9DE",
        "outputId": "c0679380-9cb1-44de-8209-f75ab7596c21"
      },
      "source": [
        "bike_sharing_data[\"weathersit\"].unique()"
      ],
      "execution_count": 28,
      "outputs": [
        {
          "output_type": "execute_result",
          "data": {
            "text/plain": [
              "array([2, 1, 3])"
            ]
          },
          "metadata": {},
          "execution_count": 28
        }
      ]
    },
    {
      "cell_type": "code",
      "metadata": {
        "colab": {
          "base_uri": "https://localhost:8080/"
        },
        "id": "tVbKyCS1b-Co",
        "outputId": "d5f1d4b3-c1e9-48a3-c196-2c7763528677"
      },
      "source": [
        "bike_sharing_data[\"season\"].unique()"
      ],
      "execution_count": 29,
      "outputs": [
        {
          "output_type": "execute_result",
          "data": {
            "text/plain": [
              "array([1, 2, 3, 4])"
            ]
          },
          "metadata": {},
          "execution_count": 29
        }
      ]
    },
    {
      "cell_type": "code",
      "metadata": {
        "colab": {
          "base_uri": "https://localhost:8080/",
          "height": 212
        },
        "id": "TjzrBZNacDQV",
        "outputId": "c6b643aa-c9b9-475c-c49a-337fb64ad30a"
      },
      "source": [
        "rp.summary_cont(bike_sharing_data.groupby(\"weathersit\")[\"cnt\"])"
      ],
      "execution_count": 30,
      "outputs": [
        {
          "output_type": "stream",
          "name": "stdout",
          "text": [
            "\n",
            "\n"
          ]
        },
        {
          "output_type": "execute_result",
          "data": {
            "text/html": [
              "<div>\n",
              "<style scoped>\n",
              "    .dataframe tbody tr th:only-of-type {\n",
              "        vertical-align: middle;\n",
              "    }\n",
              "\n",
              "    .dataframe tbody tr th {\n",
              "        vertical-align: top;\n",
              "    }\n",
              "\n",
              "    .dataframe thead th {\n",
              "        text-align: right;\n",
              "    }\n",
              "</style>\n",
              "<table border=\"1\" class=\"dataframe\">\n",
              "  <thead>\n",
              "    <tr style=\"text-align: right;\">\n",
              "      <th></th>\n",
              "      <th>N</th>\n",
              "      <th>Mean</th>\n",
              "      <th>SD</th>\n",
              "      <th>SE</th>\n",
              "      <th>95% Conf.</th>\n",
              "      <th>Interval</th>\n",
              "    </tr>\n",
              "    <tr>\n",
              "      <th>weathersit</th>\n",
              "      <th></th>\n",
              "      <th></th>\n",
              "      <th></th>\n",
              "      <th></th>\n",
              "      <th></th>\n",
              "      <th></th>\n",
              "    </tr>\n",
              "  </thead>\n",
              "  <tbody>\n",
              "    <tr>\n",
              "      <th>1</th>\n",
              "      <td>463</td>\n",
              "      <td>4876.7862</td>\n",
              "      <td>1879.4840</td>\n",
              "      <td>87.3470</td>\n",
              "      <td>4705.1395</td>\n",
              "      <td>5048.4329</td>\n",
              "    </tr>\n",
              "    <tr>\n",
              "      <th>2</th>\n",
              "      <td>247</td>\n",
              "      <td>4035.8623</td>\n",
              "      <td>1809.1099</td>\n",
              "      <td>115.1109</td>\n",
              "      <td>3809.1337</td>\n",
              "      <td>4262.5910</td>\n",
              "    </tr>\n",
              "    <tr>\n",
              "      <th>3</th>\n",
              "      <td>21</td>\n",
              "      <td>1803.2857</td>\n",
              "      <td>1240.2844</td>\n",
              "      <td>270.6523</td>\n",
              "      <td>1238.7150</td>\n",
              "      <td>2367.8564</td>\n",
              "    </tr>\n",
              "  </tbody>\n",
              "</table>\n",
              "</div>"
            ],
            "text/plain": [
              "              N       Mean         SD        SE  95% Conf.   Interval\n",
              "weathersit                                                           \n",
              "1           463  4876.7862  1879.4840   87.3470  4705.1395  5048.4329\n",
              "2           247  4035.8623  1809.1099  115.1109  3809.1337  4262.5910\n",
              "3            21  1803.2857  1240.2844  270.6523  1238.7150  2367.8564"
            ]
          },
          "metadata": {},
          "execution_count": 30
        }
      ]
    },
    {
      "cell_type": "code",
      "metadata": {
        "colab": {
          "base_uri": "https://localhost:8080/",
          "height": 297
        },
        "id": "1oDwjUjAcWmY",
        "outputId": "cb7d61b6-be2b-456b-bc51-dae3ae905b1a"
      },
      "source": [
        "sns.boxplot(bike_sharing_data[\"weathersit\"],bike_sharing_data[\"cnt\"])"
      ],
      "execution_count": 31,
      "outputs": [
        {
          "output_type": "execute_result",
          "data": {
            "text/plain": [
              "<matplotlib.axes._subplots.AxesSubplot at 0x7fedcc8cf590>"
            ]
          },
          "metadata": {},
          "execution_count": 31
        },
        {
          "output_type": "display_data",
          "data": {
            "image/png": "[encoded data removed]",
            "text/plain": [
              "<Figure size 432x288 with 1 Axes>"
            ]
          },
          "metadata": {
            "needs_background": "light"
          }
        }
      ]
    },
    {
      "cell_type": "code",
      "metadata": {
        "colab": {
          "base_uri": "https://localhost:8080/",
          "height": 243
        },
        "id": "D3QYcUgAcwIh",
        "outputId": "081a3237-5b9a-4d31-8203-ad27e48dbee2"
      },
      "source": [
        "rp.summary_cont(bike_sharing_data.groupby(\"season\")[\"cnt\"])"
      ],
      "execution_count": 33,
      "outputs": [
        {
          "output_type": "stream",
          "name": "stdout",
          "text": [
            "\n",
            "\n"
          ]
        },
        {
          "output_type": "execute_result",
          "data": {
            "text/html": [
              "<div>\n",
              "<style scoped>\n",
              "    .dataframe tbody tr th:only-of-type {\n",
              "        vertical-align: middle;\n",
              "    }\n",
              "\n",
              "    .dataframe tbody tr th {\n",
              "        vertical-align: top;\n",
              "    }\n",
              "\n",
              "    .dataframe thead th {\n",
              "        text-align: right;\n",
              "    }\n",
              "</style>\n",
              "<table border=\"1\" class=\"dataframe\">\n",
              "  <thead>\n",
              "    <tr style=\"text-align: right;\">\n",
              "      <th></th>\n",
              "      <th>N</th>\n",
              "      <th>Mean</th>\n",
              "      <th>SD</th>\n",
              "      <th>SE</th>\n",
              "      <th>95% Conf.</th>\n",
              "      <th>Interval</th>\n",
              "    </tr>\n",
              "    <tr>\n",
              "      <th>season</th>\n",
              "      <th></th>\n",
              "      <th></th>\n",
              "      <th></th>\n",
              "      <th></th>\n",
              "      <th></th>\n",
              "      <th></th>\n",
              "    </tr>\n",
              "  </thead>\n",
              "  <tbody>\n",
              "    <tr>\n",
              "      <th>1</th>\n",
              "      <td>181</td>\n",
              "      <td>2604.1326</td>\n",
              "      <td>1399.9421</td>\n",
              "      <td>104.0569</td>\n",
              "      <td>2398.8044</td>\n",
              "      <td>2809.4608</td>\n",
              "    </tr>\n",
              "    <tr>\n",
              "      <th>2</th>\n",
              "      <td>184</td>\n",
              "      <td>4992.3315</td>\n",
              "      <td>1695.9772</td>\n",
              "      <td>125.0291</td>\n",
              "      <td>4745.6476</td>\n",
              "      <td>5239.0154</td>\n",
              "    </tr>\n",
              "    <tr>\n",
              "      <th>3</th>\n",
              "      <td>188</td>\n",
              "      <td>5644.3032</td>\n",
              "      <td>1459.8004</td>\n",
              "      <td>106.4669</td>\n",
              "      <td>5434.2727</td>\n",
              "      <td>5854.3337</td>\n",
              "    </tr>\n",
              "    <tr>\n",
              "      <th>4</th>\n",
              "      <td>178</td>\n",
              "      <td>4728.1629</td>\n",
              "      <td>1699.6153</td>\n",
              "      <td>127.3915</td>\n",
              "      <td>4476.7612</td>\n",
              "      <td>4979.5647</td>\n",
              "    </tr>\n",
              "  </tbody>\n",
              "</table>\n",
              "</div>"
            ],
            "text/plain": [
              "          N       Mean         SD        SE  95% Conf.   Interval\n",
              "season                                                           \n",
              "1       181  2604.1326  1399.9421  104.0569  2398.8044  2809.4608\n",
              "2       184  4992.3315  1695.9772  125.0291  4745.6476  5239.0154\n",
              "3       188  5644.3032  1459.8004  106.4669  5434.2727  5854.3337\n",
              "4       178  4728.1629  1699.6153  127.3915  4476.7612  4979.5647"
            ]
          },
          "metadata": {},
          "execution_count": 33
        }
      ]
    },
    {
      "cell_type": "code",
      "metadata": {
        "colab": {
          "base_uri": "https://localhost:8080/",
          "height": 297
        },
        "id": "9Oy8rymJcetr",
        "outputId": "5eda1503-7ff2-4787-aa1f-badf751c8b82"
      },
      "source": [
        "sns.boxplot(bike_sharing_data[\"season\"],bike_sharing_data[\"cnt\"])"
      ],
      "execution_count": 35,
      "outputs": [
        {
          "output_type": "execute_result",
          "data": {
            "text/plain": [
              "<matplotlib.axes._subplots.AxesSubplot at 0x7fedcc781310>"
            ]
          },
          "metadata": {},
          "execution_count": 35
        },
        {
          "output_type": "display_data",
          "data": {
            "image/png": "[encoded data removed]",
            "text/plain": [
              "<Figure size 432x288 with 1 Axes>"
            ]
          },
          "metadata": {
            "needs_background": "light"
          }
        }
      ]
    },
    {
      "cell_type": "markdown",
      "metadata": {
        "id": "OF5gyW9CchCP"
      },
      "source": [
        "both the box plots show that across the different seasons and weather situations the number of bikes rented are very different. \n",
        "- means of bike rented are different for different weather situations this we have already proved\n",
        "\n",
        "- to perform two-way ANOVA analysis, we'll first run some regression analysis on our data on the count of bikes shared versus the weather situation"
      ]
    },
    {
      "cell_type": "code",
      "metadata": {
        "id": "IU3ZwpdmdSDX"
      },
      "source": [
        "model=ols(\"cnt~C(weathersit)\",bike_sharing_data).fit()\n"
      ],
      "execution_count": 75,
      "outputs": []
    },
    {
      "cell_type": "code",
      "metadata": {
        "colab": {
          "base_uri": "https://localhost:8080/"
        },
        "id": "tQ3jVEfprPUY",
        "outputId": "bf5940ce-29b6-4c0b-894e-3853baaac97e"
      },
      "source": [
        "print(model.summary())"
      ],
      "execution_count": 76,
      "outputs": [
        {
          "output_type": "stream",
          "name": "stdout",
          "text": [
            "                            OLS Regression Results                            \n",
            "==============================================================================\n",
            "Dep. Variable:                    cnt   R-squared:                       0.099\n",
            "Model:                            OLS   Adj. R-squared:                  0.097\n",
            "Method:                 Least Squares   F-statistic:                     40.07\n",
            "Date:                Wed, 22 Sep 2021   Prob (F-statistic):           3.11e-17\n",
            "Time:                        18:58:39   Log-Likelihood:                -6531.5\n",
            "No. Observations:                 731   AIC:                         1.307e+04\n",
            "Df Residuals:                     728   BIC:                         1.308e+04\n",
            "Df Model:                           2                                         \n",
            "Covariance Type:            nonrobust                                         \n",
            "======================================================================================\n",
            "                         coef    std err          t      P>|t|      [0.025      0.975]\n",
            "--------------------------------------------------------------------------------------\n",
            "Intercept           4876.7862     85.567     56.994      0.000    4708.798    5044.774\n",
            "C(weathersit)[T.2]  -840.9238    145.073     -5.797      0.000   -1125.736    -556.112\n",
            "C(weathersit)[T.3] -3073.5005    410.790     -7.482      0.000   -3879.975   -2267.026\n",
            "==============================================================================\n",
            "Omnibus:                       38.064   Durbin-Watson:                   0.260\n",
            "Prob(Omnibus):                  0.000   Jarque-Bera (JB):               15.665\n",
            "Skew:                          -0.061   Prob(JB):                     0.000397\n",
            "Kurtosis:                       2.293   Cond. No.                         6.46\n",
            "==============================================================================\n",
            "\n",
            "Warnings:\n",
            "[1] Standard Errors assume that the covariance matrix of the errors is correctly specified.\n"
          ]
        }
      ]
    },
    {
      "cell_type": "markdown",
      "metadata": {
        "id": "j7xUt1D8tN9v"
      },
      "source": [
        "- The R-squared and the adjusted R-squared values are fairly low here, indicating that the regression wasn't great.\n",
        "- Whether this regression was significant or not is given by the f-statistic for the regression and the corresponding p-value. With a very small p-value under the 5% threshold, we know this regression is significant\n",
        "- The null hypothesis under this is “all the regression coefficients are equal to zero”. Prob(F-statistics) depicts the probability of null hypothesis being true. As per the above results, probability is close to zero. This implies that overall the regressions is meaningful.\n",
        "- the p-value for every variable and intercept is less than 0.05% which implies that every variable in the regression is significant(The null hypothesis is that the coefficient should be equal to 0, that is the variable is not significant. With a p-value equal to 0, we can reject the null hypothesis.)\n"
      ]
    },
    {
      "cell_type": "markdown",
      "metadata": {
        "id": "m2aeXPKhuyYq"
      },
      "source": [
        "we perform the same regression for other categorical variable"
      ]
    },
    {
      "cell_type": "code",
      "metadata": {
        "id": "_A5S7xoFyI_5"
      },
      "source": [
        "model=ols(\"cnt~C(season)\",bike_sharing_data).fit()\n"
      ],
      "execution_count": 77,
      "outputs": []
    },
    {
      "cell_type": "code",
      "metadata": {
        "colab": {
          "base_uri": "https://localhost:8080/"
        },
        "id": "-nWgprjQyO2Q",
        "outputId": "0017b9b9-0685-42c6-eece-a36454aa8a61"
      },
      "source": [
        "print(model.summary())"
      ],
      "execution_count": 78,
      "outputs": [
        {
          "output_type": "stream",
          "name": "stdout",
          "text": [
            "                            OLS Regression Results                            \n",
            "==============================================================================\n",
            "Dep. Variable:                    cnt   R-squared:                       0.347\n",
            "Model:                            OLS   Adj. R-squared:                  0.344\n",
            "Method:                 Least Squares   F-statistic:                     128.8\n",
            "Date:                Wed, 22 Sep 2021   Prob (F-statistic):           6.72e-67\n",
            "Time:                        18:59:14   Log-Likelihood:                -6413.9\n",
            "No. Observations:                 731   AIC:                         1.284e+04\n",
            "Df Residuals:                     727   BIC:                         1.285e+04\n",
            "Df Model:                           3                                         \n",
            "Covariance Type:            nonrobust                                         \n",
            "==================================================================================\n",
            "                     coef    std err          t      P>|t|      [0.025      0.975]\n",
            "----------------------------------------------------------------------------------\n",
            "Intercept       2604.1326    116.598     22.334      0.000    2375.223    2833.042\n",
            "C(season)[T.2]  2388.1989    164.221     14.543      0.000    2065.795    2710.603\n",
            "C(season)[T.3]  3040.1706    163.352     18.611      0.000    2719.472    3360.869\n",
            "C(season)[T.4]  2124.0303    165.588     12.827      0.000    1798.943    2449.118\n",
            "==============================================================================\n",
            "Omnibus:                        3.050   Durbin-Watson:                   0.469\n",
            "Prob(Omnibus):                  0.218   Jarque-Bera (JB):                2.765\n",
            "Skew:                           0.080   Prob(JB):                        0.251\n",
            "Kurtosis:                       2.745   Cond. No.                         4.81\n",
            "==============================================================================\n",
            "\n",
            "Warnings:\n",
            "[1] Standard Errors assume that the covariance matrix of the errors is correctly specified.\n"
          ]
        }
      ]
    },
    {
      "cell_type": "markdown",
      "metadata": {
        "id": "c_qCCXauySFz"
      },
      "source": [
        "- The R-squared and the adjusted R-squared values are significant here, indicating that the regression was fairly descent.\n",
        "- Whether this regression was significant or not is given by the f-statistic for the regression and the corresponding p-value. With a very small p-value under the 5% threshold, we know this regression is significant\n",
        "- The null hypothesis under this is “all the regression coefficients are equal to zero”. Prob(F-statistics) depicts the probability of null hypothesis being true. As per the above results, probability is close to zero. This implies that overall the regressions is meaningful.\n",
        "- the p-value for every variable and intercept is less than 0.05% which implies that every variable in the regression is significant(The null hypothesis is that the coefficient should be equal to 0, that is the variable is not significant. With a p-value equal to 0, we can reject the null hypothesis.)"
      ]
    },
    {
      "cell_type": "markdown",
      "metadata": {
        "id": "s1HijLTmy5gh"
      },
      "source": [
        "Lets do regression analysis considering weather situation and season"
      ]
    },
    {
      "cell_type": "code",
      "metadata": {
        "id": "V7ywZZKFze0y"
      },
      "source": [
        "model=ols(\"cnt~C(weathersit)+C(season)\",bike_sharing_data).fit()\n",
        "# + sign indicates that two categorical variables are independent ie no interaction between them"
      ],
      "execution_count": 79,
      "outputs": []
    },
    {
      "cell_type": "code",
      "metadata": {
        "colab": {
          "base_uri": "https://localhost:8080/"
        },
        "id": "cmiS7dqq0i0l",
        "outputId": "825ac300-824e-48eb-a40e-e5b0b0d2cf6e"
      },
      "source": [
        "print(model.summary())"
      ],
      "execution_count": 80,
      "outputs": [
        {
          "output_type": "stream",
          "name": "stdout",
          "text": [
            "                            OLS Regression Results                            \n",
            "==============================================================================\n",
            "Dep. Variable:                    cnt   R-squared:                       0.436\n",
            "Model:                            OLS   Adj. R-squared:                  0.432\n",
            "Method:                 Least Squares   F-statistic:                     112.0\n",
            "Date:                Wed, 22 Sep 2021   Prob (F-statistic):           1.13e-87\n",
            "Time:                        18:59:50   Log-Likelihood:                -6360.4\n",
            "No. Observations:                 731   AIC:                         1.273e+04\n",
            "Df Residuals:                     725   BIC:                         1.276e+04\n",
            "Df Model:                           5                                         \n",
            "Covariance Type:            nonrobust                                         \n",
            "======================================================================================\n",
            "                         coef    std err          t      P>|t|      [0.025      0.975]\n",
            "--------------------------------------------------------------------------------------\n",
            "Intercept           2931.9780    116.990     25.062      0.000    2702.298    3161.658\n",
            "C(weathersit)[T.2]  -711.6121    115.707     -6.150      0.000    -938.772    -484.452\n",
            "C(weathersit)[T.3] -3093.4043    327.354     -9.450      0.000   -3736.080   -2450.729\n",
            "C(season)[T.2]      2373.7766    152.858     15.529      0.000    2073.680    2673.873\n",
            "C(season)[T.3]      2959.8305    152.566     19.400      0.000    2660.307    3259.354\n",
            "C(season)[T.4]      2229.8300    154.522     14.431      0.000    1926.466    2533.194\n",
            "==============================================================================\n",
            "Omnibus:                       13.761   Durbin-Watson:                   0.417\n",
            "Prob(Omnibus):                  0.001   Jarque-Bera (JB):               11.659\n",
            "Skew:                           0.238   Prob(JB):                      0.00294\n",
            "Kurtosis:                       2.604   Cond. No.                         7.02\n",
            "==============================================================================\n",
            "\n",
            "Warnings:\n",
            "[1] Standard Errors assume that the covariance matrix of the errors is correctly specified.\n"
          ]
        }
      ]
    },
    {
      "cell_type": "markdown",
      "metadata": {
        "id": "MiJhD-bL0kmW"
      },
      "source": [
        "- The R-squared and the adjusted R-squared values are significant here, indicating that the regression was fairly descent.\n",
        "- Whether this regression was significant or not is given by the f-statistic for the regression and the corresponding p-value. With a very small p-value under the 5% threshold, we know this regression is significant\n",
        "- The null hypothesis under this is “all the regression coefficients are equal to zero”. Prob(F-statistics) depicts the probability of null hypothesis being true. As per the above results, probability is close to zero. This implies that overall the regressions is meaningful.\n",
        "- Observe that the regression variable coefficients now include coefficients for the weather situation, as well as the season, and all of these coefficients are significant, since p-value for every variable and intercept is less than 0.05% which implies that every variable in the regression is significant(The null hypothesis is that the coefficient should be equal to 0, that is the variable is not significant. With a p-value equal to 0, we can reject the null hypothesis.)"
      ]
    },
    {
      "cell_type": "code",
      "metadata": {
        "colab": {
          "base_uri": "https://localhost:8080/",
          "height": 143
        },
        "id": "S5ATKeGl2BdF",
        "outputId": "51656d9a-a706-4fce-cb3f-4f772f93077b"
      },
      "source": [
        "# Lets do ANOVA on the three models that we have \n",
        "# when using model with one categorical variable its one way annova \n",
        "# when using model with two categorical variable its two way annova\n",
        "from statsmodels.stats.anova import anova_lm\n",
        "anova_lm(model)"
      ],
      "execution_count": 81,
      "outputs": [
        {
          "output_type": "execute_result",
          "data": {
            "text/html": [
              "<div>\n",
              "<style scoped>\n",
              "    .dataframe tbody tr th:only-of-type {\n",
              "        vertical-align: middle;\n",
              "    }\n",
              "\n",
              "    .dataframe tbody tr th {\n",
              "        vertical-align: top;\n",
              "    }\n",
              "\n",
              "    .dataframe thead th {\n",
              "        text-align: right;\n",
              "    }\n",
              "</style>\n",
              "<table border=\"1\" class=\"dataframe\">\n",
              "  <thead>\n",
              "    <tr style=\"text-align: right;\">\n",
              "      <th></th>\n",
              "      <th>df</th>\n",
              "      <th>sum_sq</th>\n",
              "      <th>mean_sq</th>\n",
              "      <th>F</th>\n",
              "      <th>PR(&gt;F)</th>\n",
              "    </tr>\n",
              "  </thead>\n",
              "  <tbody>\n",
              "    <tr>\n",
              "      <th>C(weathersit)</th>\n",
              "      <td>2.0</td>\n",
              "      <td>2.716446e+08</td>\n",
              "      <td>1.358223e+08</td>\n",
              "      <td>63.717757</td>\n",
              "      <td>3.218999e-26</td>\n",
              "    </tr>\n",
              "    <tr>\n",
              "      <th>C(season)</th>\n",
              "      <td>3.0</td>\n",
              "      <td>9.224636e+08</td>\n",
              "      <td>3.074879e+08</td>\n",
              "      <td>144.250530</td>\n",
              "      <td>2.702818e-73</td>\n",
              "    </tr>\n",
              "    <tr>\n",
              "      <th>Residual</th>\n",
              "      <td>725.0</td>\n",
              "      <td>1.545427e+09</td>\n",
              "      <td>2.131624e+06</td>\n",
              "      <td>NaN</td>\n",
              "      <td>NaN</td>\n",
              "    </tr>\n",
              "  </tbody>\n",
              "</table>\n",
              "</div>"
            ],
            "text/plain": [
              "                  df        sum_sq       mean_sq           F        PR(>F)\n",
              "C(weathersit)    2.0  2.716446e+08  1.358223e+08   63.717757  3.218999e-26\n",
              "C(season)        3.0  9.224636e+08  3.074879e+08  144.250530  2.702818e-73\n",
              "Residual       725.0  1.545427e+09  2.131624e+06         NaN           NaN"
            ]
          },
          "metadata": {},
          "execution_count": 81
        }
      ]
    },
    {
      "cell_type": "markdown",
      "metadata": {
        "id": "CulU9KmR2FRJ"
      },
      "source": [
        "- for each of categorical variables our two-way ANOVA analysis tells us that the differences in the means between the categories are significant.\n",
        "-  A p-value which is very close to 0 indicates that the differences in the means between the different categories of weather situation is significant, and the same is true for the different seasons as well. \n",
        "- Our two-way ANOVA analysis makes it very clear here that both the weather situation, as well as the season affect the number of bikes shared"
      ]
    },
    {
      "cell_type": "code",
      "metadata": {
        "id": "-gMLBAgk4okk"
      },
      "source": [
        "# We also want to consider the interaction between these two categorical features.\n",
        "# Let's take a quick look at the results of this regression\n",
        "model=ols(\"cnt~C(weathersit)*C(season)\",bike_sharing_data).fit()\n",
        "# * sign indicates that two categorical variables are interacting with each other"
      ],
      "execution_count": 85,
      "outputs": []
    },
    {
      "cell_type": "code",
      "metadata": {
        "colab": {
          "base_uri": "https://localhost:8080/"
        },
        "id": "x10TzVtx5IPC",
        "outputId": "5ebfa044-7321-4fbc-8a50-f5144a7b4a0a"
      },
      "source": [
        "print(model.summary())"
      ],
      "execution_count": 86,
      "outputs": [
        {
          "output_type": "stream",
          "name": "stdout",
          "text": [
            "                            OLS Regression Results                            \n",
            "==============================================================================\n",
            "Dep. Variable:                    cnt   R-squared:                       0.447\n",
            "Model:                            OLS   Adj. R-squared:                  0.439\n",
            "Method:                 Least Squares   F-statistic:                     52.85\n",
            "Date:                Wed, 22 Sep 2021   Prob (F-statistic):           5.25e-85\n",
            "Time:                        19:11:08   Log-Likelihood:                -6353.1\n",
            "No. Observations:                 731   AIC:                         1.273e+04\n",
            "Df Residuals:                     719   BIC:                         1.279e+04\n",
            "Df Model:                          11                                         \n",
            "Covariance Type:            nonrobust                                         \n",
            "=====================================================================================================\n",
            "                                        coef    std err          t      P>|t|      [0.025      0.975]\n",
            "-----------------------------------------------------------------------------------------------------\n",
            "Intercept                          2811.1351    137.768     20.405      0.000    2540.660    3081.611\n",
            "C(weathersit)[T.2]                 -453.9685    225.612     -2.012      0.045    -896.906     -11.031\n",
            "C(weathersit)[T.3]                -1876.3851    738.699     -2.540      0.011   -3326.649    -426.121\n",
            "C(season)[T.2]                     2737.4135    193.969     14.113      0.000    2356.600    3118.228\n",
            "C(season)[T.3]                     3067.1222    185.664     16.520      0.000    2702.614    3431.630\n",
            "C(season)[T.4]                     2232.4280    198.581     11.242      0.000    1842.561    2622.295\n",
            "C(weathersit)[T.2]:C(season)[T.2]  -857.8743    317.060     -2.706      0.007   -1480.349    -235.400\n",
            "C(weathersit)[T.3]:C(season)[T.2] -2503.1635   1125.425     -2.224      0.026   -4712.675    -293.653\n",
            "C(weathersit)[T.2]:C(season)[T.3]  -201.8097    332.089     -0.608      0.544    -853.790     450.171\n",
            "C(weathersit)[T.3]:C(season)[T.3] -1250.1222   1043.006     -1.199      0.231   -3297.824     797.580\n",
            "C(weathersit)[T.2]:C(season)[T.4]    64.4054    322.129      0.200      0.842    -568.021     696.832\n",
            "C(weathersit)[T.3]:C(season)[T.4] -1205.5780    881.367     -1.368      0.172   -2935.939     524.783\n",
            "==============================================================================\n",
            "Omnibus:                       13.342   Durbin-Watson:                   0.422\n",
            "Prob(Omnibus):                  0.001   Jarque-Bera (JB):               12.110\n",
            "Skew:                           0.261   Prob(JB):                      0.00235\n",
            "Kurtosis:                       2.647   Cond. No.                         35.1\n",
            "==============================================================================\n",
            "\n",
            "Warnings:\n",
            "[1] Standard Errors assume that the covariance matrix of the errors is correctly specified.\n"
          ]
        }
      ]
    },
    {
      "cell_type": "markdown",
      "metadata": {
        "id": "vCrisvtr6--J"
      },
      "source": [
        "- Here are the R-squared values and the f-statistic showing us that the regression is significant. \n",
        "- we have many more regression variables. Here are the regression variables which consider the individual weather situation categories, as well as the individual seasons, and because we've taken into account the interaction between these two variables in this regression, here are the coefficients corresponding to the interaction variables.\n",
        "- the p-values of these regression coefficients tell us that some of these interactions may not be significant, but others are. \n",
        "- There are two p-values here under 5%. Those interaction coefficients are significant."
      ]
    },
    {
      "cell_type": "code",
      "metadata": {
        "colab": {
          "base_uri": "https://localhost:8080/",
          "height": 175
        },
        "id": "vz-PMNVT5BnL",
        "outputId": "653ba601-2af1-463b-d102-3b6600b8890b"
      },
      "source": [
        "anova_lm(model)"
      ],
      "execution_count": 83,
      "outputs": [
        {
          "output_type": "execute_result",
          "data": {
            "text/html": [
              "<div>\n",
              "<style scoped>\n",
              "    .dataframe tbody tr th:only-of-type {\n",
              "        vertical-align: middle;\n",
              "    }\n",
              "\n",
              "    .dataframe tbody tr th {\n",
              "        vertical-align: top;\n",
              "    }\n",
              "\n",
              "    .dataframe thead th {\n",
              "        text-align: right;\n",
              "    }\n",
              "</style>\n",
              "<table border=\"1\" class=\"dataframe\">\n",
              "  <thead>\n",
              "    <tr style=\"text-align: right;\">\n",
              "      <th></th>\n",
              "      <th>df</th>\n",
              "      <th>sum_sq</th>\n",
              "      <th>mean_sq</th>\n",
              "      <th>F</th>\n",
              "      <th>PR(&gt;F)</th>\n",
              "    </tr>\n",
              "  </thead>\n",
              "  <tbody>\n",
              "    <tr>\n",
              "      <th>C(weathersit)</th>\n",
              "      <td>2.0</td>\n",
              "      <td>2.716446e+08</td>\n",
              "      <td>1.358223e+08</td>\n",
              "      <td>64.469065</td>\n",
              "      <td>1.766520e-26</td>\n",
              "    </tr>\n",
              "    <tr>\n",
              "      <th>C(season)</th>\n",
              "      <td>3.0</td>\n",
              "      <td>9.224636e+08</td>\n",
              "      <td>3.074879e+08</td>\n",
              "      <td>145.951415</td>\n",
              "      <td>7.347364e-74</td>\n",
              "    </tr>\n",
              "    <tr>\n",
              "      <th>C(weathersit):C(season)</th>\n",
              "      <td>6.0</td>\n",
              "      <td>3.065076e+07</td>\n",
              "      <td>5.108460e+06</td>\n",
              "      <td>2.424769</td>\n",
              "      <td>2.505746e-02</td>\n",
              "    </tr>\n",
              "    <tr>\n",
              "      <th>Residual</th>\n",
              "      <td>719.0</td>\n",
              "      <td>1.514776e+09</td>\n",
              "      <td>2.106782e+06</td>\n",
              "      <td>NaN</td>\n",
              "      <td>NaN</td>\n",
              "    </tr>\n",
              "  </tbody>\n",
              "</table>\n",
              "</div>"
            ],
            "text/plain": [
              "                            df        sum_sq  ...           F        PR(>F)\n",
              "C(weathersit)              2.0  2.716446e+08  ...   64.469065  1.766520e-26\n",
              "C(season)                  3.0  9.224636e+08  ...  145.951415  7.347364e-74\n",
              "C(weathersit):C(season)    6.0  3.065076e+07  ...    2.424769  2.505746e-02\n",
              "Residual                 719.0  1.514776e+09  ...         NaN           NaN\n",
              "\n",
              "[4 rows x 5 columns]"
            ]
          },
          "metadata": {},
          "execution_count": 83
        }
      ]
    },
    {
      "cell_type": "markdown",
      "metadata": {
        "id": "Ajdkzvvj5FRZ"
      },
      "source": [
        "- ANOVA analysis prints out whether the differences in the means of the individual categories are significant. We know that they are\n",
        "- this two-way ANOVA also very clearly tells us that the interaction between the weather situation and season categorical variable is significant."
      ]
    },
    {
      "cell_type": "markdown",
      "metadata": {
        "id": "gz0VW5yg867f"
      },
      "source": [
        "## Chi Square Analysis"
      ]
    },
    {
      "cell_type": "code",
      "metadata": {
        "id": "mJ-7S_7I9Kve"
      },
      "source": [
        "import pandas as pd\n",
        "import numpy as np\n",
        "import matplotlib.pyplot as plt\n",
        "from scipy.stats import chi2_contingency"
      ],
      "execution_count": 88,
      "outputs": []
    },
    {
      "cell_type": "code",
      "metadata": {
        "id": "OK0fsZyy_XNi"
      },
      "source": [
        "data=pd.read_csv(\"/content/Womens Clothing E-Commerce Reviews.csv\",engine=\"python\" ,index_col=0)"
      ],
      "execution_count": 105,
      "outputs": []
    },
    {
      "cell_type": "code",
      "metadata": {
        "id": "0e4C5LhQBCtr"
      },
      "source": [
        "#subsetting the dataset for my convinience\n",
        "data=data[[\"Clothing ID\",\"Age\",\"Rating\",\"Recommended IND\",\"Positive Feedback Count\",\"Division Name\",\"Department Name\",\"Class Name\"]]"
      ],
      "execution_count": 109,
      "outputs": []
    },
    {
      "cell_type": "code",
      "metadata": {
        "colab": {
          "base_uri": "https://localhost:8080/",
          "height": 363
        },
        "id": "d29Juj_TBprT",
        "outputId": "f76404a6-7501-4728-95c8-d98d91b34f13"
      },
      "source": [
        "data.sample(10)"
      ],
      "execution_count": 110,
      "outputs": [
        {
          "output_type": "execute_result",
          "data": {
            "text/html": [
              "<div>\n",
              "<style scoped>\n",
              "    .dataframe tbody tr th:only-of-type {\n",
              "        vertical-align: middle;\n",
              "    }\n",
              "\n",
              "    .dataframe tbody tr th {\n",
              "        vertical-align: top;\n",
              "    }\n",
              "\n",
              "    .dataframe thead th {\n",
              "        text-align: right;\n",
              "    }\n",
              "</style>\n",
              "<table border=\"1\" class=\"dataframe\">\n",
              "  <thead>\n",
              "    <tr style=\"text-align: right;\">\n",
              "      <th></th>\n",
              "      <th>Clothing ID</th>\n",
              "      <th>Age</th>\n",
              "      <th>Rating</th>\n",
              "      <th>Recommended IND</th>\n",
              "      <th>Positive Feedback Count</th>\n",
              "      <th>Division Name</th>\n",
              "      <th>Department Name</th>\n",
              "      <th>Class Name</th>\n",
              "    </tr>\n",
              "  </thead>\n",
              "  <tbody>\n",
              "    <tr>\n",
              "      <th>21649</th>\n",
              "      <td>1008</td>\n",
              "      <td>53</td>\n",
              "      <td>4</td>\n",
              "      <td>1</td>\n",
              "      <td>3</td>\n",
              "      <td>General Petite</td>\n",
              "      <td>Bottoms</td>\n",
              "      <td>Skirts</td>\n",
              "    </tr>\n",
              "    <tr>\n",
              "      <th>11570</th>\n",
              "      <td>862</td>\n",
              "      <td>41</td>\n",
              "      <td>2</td>\n",
              "      <td>0</td>\n",
              "      <td>1</td>\n",
              "      <td>General</td>\n",
              "      <td>Tops</td>\n",
              "      <td>Knits</td>\n",
              "    </tr>\n",
              "    <tr>\n",
              "      <th>13241</th>\n",
              "      <td>167</td>\n",
              "      <td>44</td>\n",
              "      <td>5</td>\n",
              "      <td>1</td>\n",
              "      <td>0</td>\n",
              "      <td>General</td>\n",
              "      <td>Bottoms</td>\n",
              "      <td>Shorts</td>\n",
              "    </tr>\n",
              "    <tr>\n",
              "      <th>22018</th>\n",
              "      <td>864</td>\n",
              "      <td>44</td>\n",
              "      <td>5</td>\n",
              "      <td>1</td>\n",
              "      <td>2</td>\n",
              "      <td>General Petite</td>\n",
              "      <td>Tops</td>\n",
              "      <td>Knits</td>\n",
              "    </tr>\n",
              "    <tr>\n",
              "      <th>14835</th>\n",
              "      <td>929</td>\n",
              "      <td>40</td>\n",
              "      <td>3</td>\n",
              "      <td>1</td>\n",
              "      <td>4</td>\n",
              "      <td>General</td>\n",
              "      <td>Tops</td>\n",
              "      <td>Sweaters</td>\n",
              "    </tr>\n",
              "    <tr>\n",
              "      <th>5801</th>\n",
              "      <td>818</td>\n",
              "      <td>25</td>\n",
              "      <td>5</td>\n",
              "      <td>1</td>\n",
              "      <td>3</td>\n",
              "      <td>General</td>\n",
              "      <td>Tops</td>\n",
              "      <td>Blouses</td>\n",
              "    </tr>\n",
              "    <tr>\n",
              "      <th>18978</th>\n",
              "      <td>960</td>\n",
              "      <td>29</td>\n",
              "      <td>4</td>\n",
              "      <td>1</td>\n",
              "      <td>1</td>\n",
              "      <td>General</td>\n",
              "      <td>Jackets</td>\n",
              "      <td>Jackets</td>\n",
              "    </tr>\n",
              "    <tr>\n",
              "      <th>33</th>\n",
              "      <td>949</td>\n",
              "      <td>36</td>\n",
              "      <td>2</td>\n",
              "      <td>0</td>\n",
              "      <td>0</td>\n",
              "      <td>General</td>\n",
              "      <td>Tops</td>\n",
              "      <td>Sweaters</td>\n",
              "    </tr>\n",
              "    <tr>\n",
              "      <th>22936</th>\n",
              "      <td>1107</td>\n",
              "      <td>48</td>\n",
              "      <td>5</td>\n",
              "      <td>1</td>\n",
              "      <td>1</td>\n",
              "      <td>General Petite</td>\n",
              "      <td>Dresses</td>\n",
              "      <td>Dresses</td>\n",
              "    </tr>\n",
              "    <tr>\n",
              "      <th>1390</th>\n",
              "      <td>1083</td>\n",
              "      <td>38</td>\n",
              "      <td>2</td>\n",
              "      <td>0</td>\n",
              "      <td>4</td>\n",
              "      <td>General Petite</td>\n",
              "      <td>Dresses</td>\n",
              "      <td>Dresses</td>\n",
              "    </tr>\n",
              "  </tbody>\n",
              "</table>\n",
              "</div>"
            ],
            "text/plain": [
              "       Clothing ID  Age  Rating  ...   Division Name  Department Name Class Name\n",
              "21649         1008   53       4  ...  General Petite          Bottoms     Skirts\n",
              "11570          862   41       2  ...         General             Tops      Knits\n",
              "13241          167   44       5  ...         General          Bottoms     Shorts\n",
              "22018          864   44       5  ...  General Petite             Tops      Knits\n",
              "14835          929   40       3  ...         General             Tops   Sweaters\n",
              "5801           818   25       5  ...         General             Tops    Blouses\n",
              "18978          960   29       4  ...         General          Jackets    Jackets\n",
              "33             949   36       2  ...         General             Tops   Sweaters\n",
              "22936         1107   48       5  ...  General Petite          Dresses    Dresses\n",
              "1390          1083   38       2  ...  General Petite          Dresses    Dresses\n",
              "\n",
              "[10 rows x 8 columns]"
            ]
          },
          "metadata": {},
          "execution_count": 110
        }
      ]
    },
    {
      "cell_type": "code",
      "metadata": {
        "colab": {
          "base_uri": "https://localhost:8080/"
        },
        "id": "kEoN2E00DZyX",
        "outputId": "7424c9a1-98fd-4e5c-d24a-76f2c5f55139"
      },
      "source": [
        "data.shape"
      ],
      "execution_count": 111,
      "outputs": [
        {
          "output_type": "execute_result",
          "data": {
            "text/plain": [
              "(23486, 8)"
            ]
          },
          "metadata": {},
          "execution_count": 111
        }
      ]
    },
    {
      "cell_type": "markdown",
      "metadata": {
        "id": "3VgvekyuDy9d"
      },
      "source": [
        "We'll perform a chi-squared analysis to see whether the recommendations made by the e-commerce site are independent of the ratings associated with the product"
      ]
    },
    {
      "cell_type": "code",
      "metadata": {
        "colab": {
          "base_uri": "https://localhost:8080/",
          "height": 283
        },
        "id": "K9TjdEejEFip",
        "outputId": "573b3594-1a7c-4078-9872-0177edd27503"
      },
      "source": [
        "data[\"Rating\"].plot(kind=\"hist\")"
      ],
      "execution_count": 112,
      "outputs": [
        {
          "output_type": "execute_result",
          "data": {
            "text/plain": [
              "<matplotlib.axes._subplots.AxesSubplot at 0x7fedcb349490>"
            ]
          },
          "metadata": {},
          "execution_count": 112
        },
        {
          "output_type": "display_data",
          "data": {
            "image/png": "[encoded data removed]",
            "text/plain": [
              "<Figure size 432x288 with 1 Axes>"
            ]
          },
          "metadata": {
            "needs_background": "light"
          }
        }
      ]
    },
    {
      "cell_type": "code",
      "metadata": {
        "id": "J4RVjteWESBm"
      },
      "source": [
        "tabs=pd.crosstab(data[\"Recommended IND\"],data[\"Rating\"])"
      ],
      "execution_count": 117,
      "outputs": []
    },
    {
      "cell_type": "code",
      "metadata": {
        "colab": {
          "base_uri": "https://localhost:8080/",
          "height": 143
        },
        "id": "JAkaiZ5OE7Pu",
        "outputId": "bf65a268-2d10-47fa-8158-5a68488467aa"
      },
      "source": [
        "tabs"
      ],
      "execution_count": 118,
      "outputs": [
        {
          "output_type": "execute_result",
          "data": {
            "text/html": [
              "<div>\n",
              "<style scoped>\n",
              "    .dataframe tbody tr th:only-of-type {\n",
              "        vertical-align: middle;\n",
              "    }\n",
              "\n",
              "    .dataframe tbody tr th {\n",
              "        vertical-align: top;\n",
              "    }\n",
              "\n",
              "    .dataframe thead th {\n",
              "        text-align: right;\n",
              "    }\n",
              "</style>\n",
              "<table border=\"1\" class=\"dataframe\">\n",
              "  <thead>\n",
              "    <tr style=\"text-align: right;\">\n",
              "      <th>Rating</th>\n",
              "      <th>1</th>\n",
              "      <th>2</th>\n",
              "      <th>3</th>\n",
              "      <th>4</th>\n",
              "      <th>5</th>\n",
              "    </tr>\n",
              "    <tr>\n",
              "      <th>Recommended IND</th>\n",
              "      <th></th>\n",
              "      <th></th>\n",
              "      <th></th>\n",
              "      <th></th>\n",
              "      <th></th>\n",
              "    </tr>\n",
              "  </thead>\n",
              "  <tbody>\n",
              "    <tr>\n",
              "      <th>0</th>\n",
              "      <td>826</td>\n",
              "      <td>1471</td>\n",
              "      <td>1682</td>\n",
              "      <td>168</td>\n",
              "      <td>25</td>\n",
              "    </tr>\n",
              "    <tr>\n",
              "      <th>1</th>\n",
              "      <td>16</td>\n",
              "      <td>94</td>\n",
              "      <td>1189</td>\n",
              "      <td>4909</td>\n",
              "      <td>13106</td>\n",
              "    </tr>\n",
              "  </tbody>\n",
              "</table>\n",
              "</div>"
            ],
            "text/plain": [
              "Rating             1     2     3     4      5\n",
              "Recommended IND                              \n",
              "0                826  1471  1682   168     25\n",
              "1                 16    94  1189  4909  13106"
            ]
          },
          "metadata": {},
          "execution_count": 118
        }
      ]
    },
    {
      "cell_type": "markdown",
      "metadata": {
        "id": "h-UaKyRrFo-C"
      },
      "source": [
        "The chi2_contingency function in the scipy library calculates the Pearson's chi-squared statistic to test for the independence of two categorical variables. "
      ]
    },
    {
      "cell_type": "code",
      "metadata": {
        "id": "-B1hBhFUE9zL"
      },
      "source": [
        "chi2,p_value,dof,expected_values=chi2_contingency(tabs)"
      ],
      "execution_count": 120,
      "outputs": []
    },
    {
      "cell_type": "code",
      "metadata": {
        "colab": {
          "base_uri": "https://localhost:8080/"
        },
        "id": "OFBvscHIFdV4",
        "outputId": "25c71771-b3d8-4486-e74f-938b6f573e45"
      },
      "source": [
        "expected_values"
      ],
      "execution_count": 121,
      "outputs": [
        {
          "output_type": "execute_result",
          "data": {
            "text/plain": [
              "array([[  149.57097846,   278.00306566,   509.99795623,   901.86681427,\n",
              "         2332.56118539],\n",
              "       [  692.42902154,  1286.99693434,  2361.00204377,  4175.13318573,\n",
              "        10798.43881461]])"
            ]
          },
          "metadata": {},
          "execution_count": 121
        }
      ]
    },
    {
      "cell_type": "markdown",
      "metadata": {
        "id": "Ot-Nz8qsGEMp"
      },
      "source": [
        "- We are trying to determine that are recommendations made by the e-commerce site independent of the ratings associated with the individual products.\n",
        "- We have two categories of products, recommended and not recommended.\n",
        "- The chi-squared test will see the observed frequencies of ratings across these two different categories and see whether these observed frequencies for recommended products, as well as not recommended products, match the expected frequency. \n",
        "- The expected frequency is the frequency distribution of ratings across the entire dataset. \n",
        "- The expected_values fromm the chi2_contingency test  give you how chi-squared expects that the data will be distributed if the recommended and the not recommended categorical values were independent of the ratings"
      ]
    },
    {
      "cell_type": "code",
      "metadata": {
        "colab": {
          "base_uri": "https://localhost:8080/"
        },
        "id": "5c0qCTtDIFt1",
        "outputId": "aeefdd85-3094-4ab2-ab38-87e915bcbf81"
      },
      "source": [
        "print(\"Chi2 Statistic     :\",chi2)\n",
        "print(\"p-value            :\",p_value)\n",
        "print(\"Dergree of freedom :\",dof)\n",
        "print(\"Expected frequency :\",expected_values)"
      ],
      "execution_count": 124,
      "outputs": [
        {
          "output_type": "stream",
          "name": "stdout",
          "text": [
            "Chi2 Statistic     : 16722.503172306744\n",
            "p-value            : 0.0\n",
            "Dergree of freedom : 4\n",
            "Expected frequency : [[  149.57097846   278.00306566   509.99795623   901.86681427\n",
            "   2332.56118539]\n",
            " [  692.42902154  1286.99693434  2361.00204377  4175.13318573\n",
            "  10798.43881461]]\n"
          ]
        }
      ]
    },
    {
      "cell_type": "markdown",
      "metadata": {
        "id": "MKD1J7-ZIyRF"
      },
      "source": [
        "- p_value of 0 implies that the test was significant and that the recommendations of products depends upon star ratings\n",
        "- Significant test means the distribution as seen in the data(data across individual category)was very different from the expected distribution(distribution across whole dataset) for the recommended and not recommended products.\n",
        "- degrees of freedom is equal to 4. That is typically the number of categories that we're working with minus 1."
      ]
    },
    {
      "cell_type": "code",
      "metadata": {
        "colab": {
          "base_uri": "https://localhost:8080/"
        },
        "id": "3cvGeNWwKoqT",
        "outputId": "fc1f505a-321a-44fa-d1c7-c4279cb0e9c3"
      },
      "source": [
        "expected_values"
      ],
      "execution_count": 125,
      "outputs": [
        {
          "output_type": "execute_result",
          "data": {
            "text/plain": [
              "array([[  149.57097846,   278.00306566,   509.99795623,   901.86681427,\n",
              "         2332.56118539],\n",
              "       [  692.42902154,  1286.99693434,  2361.00204377,  4175.13318573,\n",
              "        10798.43881461]])"
            ]
          },
          "metadata": {},
          "execution_count": 125
        }
      ]
    },
    {
      "cell_type": "markdown",
      "metadata": {
        "id": "eqNsQvufJPQR"
      },
      "source": [
        "- Based on the ratings across the entire dataset, the expected_values tells us how chi-squared expected that the data will be distributed for both the recommended, as well as the not recommended products.\n",
        "- The first row is the expected distribution for the not recommended products, and the second for the recommended products"
      ]
    },
    {
      "cell_type": "code",
      "metadata": {
        "id": "oTjOIcP0KkO9"
      },
      "source": [
        "# lets cretae a DataFrame out of expected values\n",
        "expected_df=pd.DataFrame({\"Not Recommended\":expected_values[0],\"Recommended\":expected_values[1]})"
      ],
      "execution_count": 139,
      "outputs": []
    },
    {
      "cell_type": "code",
      "metadata": {
        "colab": {
          "base_uri": "https://localhost:8080/",
          "height": 206
        },
        "id": "aVE-juAyMc1E",
        "outputId": "521f7e28-bba4-4c7c-9873-dadd3b9d2767"
      },
      "source": [
        "expected_df"
      ],
      "execution_count": 140,
      "outputs": [
        {
          "output_type": "execute_result",
          "data": {
            "text/html": [
              "<div>\n",
              "<style scoped>\n",
              "    .dataframe tbody tr th:only-of-type {\n",
              "        vertical-align: middle;\n",
              "    }\n",
              "\n",
              "    .dataframe tbody tr th {\n",
              "        vertical-align: top;\n",
              "    }\n",
              "\n",
              "    .dataframe thead th {\n",
              "        text-align: right;\n",
              "    }\n",
              "</style>\n",
              "<table border=\"1\" class=\"dataframe\">\n",
              "  <thead>\n",
              "    <tr style=\"text-align: right;\">\n",
              "      <th></th>\n",
              "      <th>Not Recommended</th>\n",
              "      <th>Recommended</th>\n",
              "    </tr>\n",
              "  </thead>\n",
              "  <tbody>\n",
              "    <tr>\n",
              "      <th>0</th>\n",
              "      <td>149.570978</td>\n",
              "      <td>692.429022</td>\n",
              "    </tr>\n",
              "    <tr>\n",
              "      <th>1</th>\n",
              "      <td>278.003066</td>\n",
              "      <td>1286.996934</td>\n",
              "    </tr>\n",
              "    <tr>\n",
              "      <th>2</th>\n",
              "      <td>509.997956</td>\n",
              "      <td>2361.002044</td>\n",
              "    </tr>\n",
              "    <tr>\n",
              "      <th>3</th>\n",
              "      <td>901.866814</td>\n",
              "      <td>4175.133186</td>\n",
              "    </tr>\n",
              "    <tr>\n",
              "      <th>4</th>\n",
              "      <td>2332.561185</td>\n",
              "      <td>10798.438815</td>\n",
              "    </tr>\n",
              "  </tbody>\n",
              "</table>\n",
              "</div>"
            ],
            "text/plain": [
              "   Not Recommended   Recommended\n",
              "0       149.570978    692.429022\n",
              "1       278.003066   1286.996934\n",
              "2       509.997956   2361.002044\n",
              "3       901.866814   4175.133186\n",
              "4      2332.561185  10798.438815"
            ]
          },
          "metadata": {},
          "execution_count": 140
        }
      ]
    },
    {
      "cell_type": "code",
      "metadata": {
        "colab": {
          "base_uri": "https://localhost:8080/",
          "height": 280
        },
        "id": "KI0Y0yyYPtgC",
        "outputId": "21729c51-2d14-49b4-9084-af9e3295f638"
      },
      "source": [
        "expected_df.plot(kind=\"bar\",stacked=True)"
      ],
      "execution_count": 141,
      "outputs": [
        {
          "output_type": "execute_result",
          "data": {
            "text/plain": [
              "<matplotlib.axes._subplots.AxesSubplot at 0x7fedcb16d450>"
            ]
          },
          "metadata": {},
          "execution_count": 141
        },
        {
          "output_type": "display_data",
          "data": {
            "image/png": "[encoded data removed]",
            "text/plain": [
              "<Figure size 432x288 with 1 Axes>"
            ]
          },
          "metadata": {
            "needs_background": "light"
          }
        }
      ]
    },
    {
      "cell_type": "markdown",
      "metadata": {
        "id": "rrYiJ1ZLMqD3"
      },
      "source": [
        "- observe the shape of this bar plot is very similar to the shape of the ratings distribution histogram\n",
        "- the chi-squared analysis expected that across recommended and not recommended products this is how the ratings would be distributed\n",
        "\n",
        "### Now lets see how observed distribution of ratings looks like"
      ]
    },
    {
      "cell_type": "code",
      "metadata": {
        "colab": {
          "base_uri": "https://localhost:8080/",
          "height": 294
        },
        "id": "eyQHjwQ0RJb5",
        "outputId": "52cef0c3-66dc-4f35-9841-882f55354cd2"
      },
      "source": [
        "tabs.T.plot(kind=\"bar\",stacked=True)"
      ],
      "execution_count": 156,
      "outputs": [
        {
          "output_type": "execute_result",
          "data": {
            "text/plain": [
              "<matplotlib.axes._subplots.AxesSubplot at 0x7feda9be1a90>"
            ]
          },
          "metadata": {},
          "execution_count": 156
        },
        {
          "output_type": "display_data",
          "data": {
            "image/png": "[encoded data removed]",
            "text/plain": [
              "<Figure size 432x288 with 1 Axes>"
            ]
          },
          "metadata": {
            "needs_background": "light"
          }
        }
      ]
    },
    {
      "cell_type": "markdown",
      "metadata": {
        "id": "clJYrniaRbfL"
      },
      "source": [
        "- the shape of this barchart shows that mostly 3+ rated products tend to be recommended. \n",
        "- There are very few products with just 1 and 2-star ratings that are recommended by the site. \n",
        "- products that were not recommended by the site mostly tend to have lower ratings, 1 and 2-star products\n",
        "- Our chi-squared analysis compared this observed distribution versus the expected distribution and found it very different. \n",
        "This clearly tells you that the e-commerce site's recommendations are not independent of the ratings of products."
      ]
    },
    {
      "cell_type": "code",
      "metadata": {
        "colab": {
          "base_uri": "https://localhost:8080/",
          "height": 283
        },
        "id": "DIm9Vr9XWBW5",
        "outputId": "f7146702-3f9e-4f72-fb12-54c6139e8e0e"
      },
      "source": [
        "data[data[\"Recommended IND\"]==0][\"Rating\"].plot(kind=\"hist\")"
      ],
      "execution_count": 158,
      "outputs": [
        {
          "output_type": "execute_result",
          "data": {
            "text/plain": [
              "<matplotlib.axes._subplots.AxesSubplot at 0x7feda9829b50>"
            ]
          },
          "metadata": {},
          "execution_count": 158
        },
        {
          "output_type": "display_data",
          "data": {
            "image/png": "[encoded data removed]",
            "text/plain": [
              "<Figure size 432x288 with 1 Axes>"
            ]
          },
          "metadata": {
            "needs_background": "light"
          }
        }
      ]
    },
    {
      "cell_type": "code",
      "metadata": {
        "colab": {
          "base_uri": "https://localhost:8080/",
          "height": 283
        },
        "id": "fqcJW0pcX2ZL",
        "outputId": "39a3598a-abbc-4cb1-c435-2823887574b3"
      },
      "source": [
        "data[data[\"Recommended IND\"]==1][\"Rating\"].plot(kind=\"hist\")"
      ],
      "execution_count": 159,
      "outputs": [
        {
          "output_type": "execute_result",
          "data": {
            "text/plain": [
              "<matplotlib.axes._subplots.AxesSubplot at 0x7feda9209310>"
            ]
          },
          "metadata": {},
          "execution_count": 159
        },
        {
          "output_type": "display_data",
          "data": {
            "image/png": "[encoded data removed]",
            "text/plain": [
              "<Figure size 432x288 with 1 Axes>"
            ]
          },
          "metadata": {
            "needs_background": "light"
          }
        }
      ]
    },
    {
      "cell_type": "markdown",
      "metadata": {
        "id": "5MxkMbPEXl2y"
      },
      "source": [
        "- we can see that the products that are not recommended have low ratings thus recommendation are influnced by ratings\n",
        "- we can see that the products that are recommended have high ratings(3+) thus recommendation are influnced by ratings\n",
        "- this is what our chi square test told us"
      ]
    },
    {
      "cell_type": "code",
      "metadata": {
        "id": "AoPJquaUYFJv"
      },
      "source": [
        ""
      ],
      "execution_count": null,
      "outputs": []
    }
  ]
}